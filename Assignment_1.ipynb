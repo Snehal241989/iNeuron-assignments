{
  "cells": [
    {
      "cell_type": "markdown",
      "metadata": {
        "id": "view-in-github",
        "colab_type": "text"
      },
      "source": [
        "<a href=\"https://colab.research.google.com/github/rooftopmunda/iNeuron-assignments/blob/main/Assignment_1.ipynb\" target=\"_parent\"><img src=\"https://colab.research.google.com/assets/colab-badge.svg\" alt=\"Open In Colab\"/></a>"
      ]
    },
    {
      "cell_type": "markdown",
      "id": "218cfe79",
      "metadata": {
        "id": "218cfe79"
      },
      "source": [
        "#1. In the below elements which of them are values or an expression? \n",
        "eg:- values can be integer or string and expressions will be mathematical operators."
      ]
    },
    {
      "cell_type": "markdown",
      "source": [
        "* \"*\" : This is the muliplication operator\n",
        "* 'hello' : This is a string data\n",
        "* -87.8 : This is a negative float data\n",
        "* \"-\" : This is the subtraction operator\n",
        "* / : This is the division operator\n",
        "* \"+\" : This is the addition operator\n",
        "* 6 : This is an integer"
      ],
      "metadata": {
        "id": "FIMOsZGMdQ8t"
      },
      "id": "FIMOsZGMdQ8t"
    },
    {
      "cell_type": "markdown",
      "id": "8bc91bac",
      "metadata": {
        "id": "8bc91bac"
      },
      "source": [
        "#2. What is the difference between string and variable?"
      ]
    },
    {
      "cell_type": "markdown",
      "id": "54e093e9",
      "metadata": {
        "id": "54e093e9"
      },
      "source": [
        "A variable is a named location in the memory which holds a value as the data. Whereas, a string is a type of data which consists of characters form A-Z and is always represented inside \" \" or ' '"
      ]
    },
    {
      "cell_type": "markdown",
      "id": "0fc8d11e",
      "metadata": {
        "id": "0fc8d11e"
      },
      "source": []
    },
    {
      "cell_type": "markdown",
      "id": "3a51c34d",
      "metadata": {
        "id": "3a51c34d"
      },
      "source": [
        "#3. Describe three different data types."
      ]
    },
    {
      "cell_type": "markdown",
      "id": "293b70e0",
      "metadata": {
        "id": "293b70e0"
      },
      "source": [
        "String: A string is data type which can have \"A-Z\" characters. It has to be represented inside a \"\" or '' to be considered as a strign value. The .str() method can convert other data types into string so that operations can be performed between similiar data types. \n",
        "\n",
        "Boolean: A boolean is a data type which can have one of the outputs either TRUE or False. The in function is based on the same boolean logic. A number except 0 is always represented as True and it is it is 0 then, False. Similiarly, whitespaces are considered as False, while other values are considered as True.\n",
        "\n",
        "Integer: An integer is a numercial value or a whole number without a decimal point. The int() function is used to convert a data type into an integer so  that operations can be performed on it.\n",
        "\n",
        "Float: A float is a numerical value which has a decimal point."
      ]
    },
    {
      "cell_type": "markdown",
      "id": "feb37606",
      "metadata": {
        "id": "feb37606"
      },
      "source": [
        "#4. What is an expression made up of? What do all expressions do?"
      ]
    },
    {
      "cell_type": "markdown",
      "id": "6f323f3a",
      "metadata": {
        "id": "6f323f3a"
      },
      "source": [
        "An expression is a combination of different operators, values and operands which when evaluated gives a single value.\n",
        "Ex: 3+5*4 : This is a combination of values and the answer is 23"
      ]
    },
    {
      "cell_type": "markdown",
      "id": "50f3c15f",
      "metadata": {
        "id": "50f3c15f"
      },
      "source": [
        "#5. This assignment statements, like spam = 10. What is the difference between an expression and a statement?"
      ]
    },
    {
      "cell_type": "markdown",
      "id": "4fc80951",
      "metadata": {
        "id": "4fc80951"
      },
      "source": [
        "The basic difference b/w a statement and an expression is that a statement is a line of code that performs a specific function or operation. Whereas, an expression is a combination of variables, operators, operands, etc which evalutes to a single value.\n",
        "\n",
        "Ex: statement = \"Hello!\" #This is an assignment statement\n",
        "x = 3 + 4   # Here, the expression '3 + 4' evaluates to the value 7, which is then assigned to the variable x."
      ]
    },
    {
      "cell_type": "markdown",
      "id": "91f43695",
      "metadata": {
        "id": "91f43695"
      },
      "source": [
        "#6.After running the following code, what does the variable bacon contain?\n",
        "\n",
        "* bacon = 22\n",
        "* bacon + 1"
      ]
    },
    {
      "cell_type": "markdown",
      "id": "029aae1b",
      "metadata": {
        "id": "029aae1b"
      },
      "source": [
        "The variable bacon will contain the value 23. This happens because the operator adds 1 to the value of the variable \"bacon\" which is 22, so 22+1 = 23"
      ]
    },
    {
      "cell_type": "code",
      "source": [
        "bacon = 22\n",
        "bacon + 1"
      ],
      "metadata": {
        "colab": {
          "base_uri": "https://localhost:8080/"
        },
        "id": "OzNYmTJNeXAT",
        "outputId": "3d55922c-a488-4806-8db8-dad57f0c46da"
      },
      "id": "OzNYmTJNeXAT",
      "execution_count": 5,
      "outputs": [
        {
          "output_type": "execute_result",
          "data": {
            "text/plain": [
              "23"
            ]
          },
          "metadata": {},
          "execution_count": 5
        }
      ]
    },
    {
      "cell_type": "markdown",
      "id": "8d599ad7",
      "metadata": {
        "id": "8d599ad7"
      },
      "source": [
        "#7.What should the values of the following two terms be?\n",
        "'spam' + 'spamspam' and\n",
        "'spam' * 3"
      ]
    },
    {
      "cell_type": "code",
      "execution_count": null,
      "id": "f7ae3fee",
      "metadata": {
        "id": "f7ae3fee",
        "outputId": "c5c903e4-76e6-4f37-ba2f-9d89eef3b027"
      },
      "outputs": [
        {
          "data": {
            "text/plain": [
              "'spamspamspam'"
            ]
          },
          "execution_count": 11,
          "metadata": {},
          "output_type": "execute_result"
        }
      ],
      "source": [
        "'spam' + 'spamspam'"
      ]
    },
    {
      "cell_type": "markdown",
      "id": "76a484e9",
      "metadata": {
        "id": "76a484e9"
      },
      "source": [
        "The value returns as 'spamspamspam' because it is the result of concatenation of 2 strings with the operator + in between. So it adds two similiar data types with one another and produces the result as shown above"
      ]
    },
    {
      "cell_type": "code",
      "execution_count": null,
      "id": "f30ad368",
      "metadata": {
        "id": "f30ad368",
        "outputId": "f0fc7831-8dfa-4071-bf1e-e93c0d87d1f4"
      },
      "outputs": [
        {
          "data": {
            "text/plain": [
              "'spamspamspam'"
            ]
          },
          "execution_count": 10,
          "metadata": {},
          "output_type": "execute_result"
        }
      ],
      "source": [
        "'spam' * 3"
      ]
    },
    {
      "cell_type": "markdown",
      "id": "a805e39c",
      "metadata": {
        "id": "a805e39c"
      },
      "source": [
        "The result is the same because here, the string 'spam' is multiplied by itself 3 times. In a way, it means spam * spam * spam which reults in 'spamspamspam'"
      ]
    },
    {
      "cell_type": "markdown",
      "id": "a4a67a45",
      "metadata": {
        "id": "a4a67a45"
      },
      "source": [
        "#8. Why is eggs a valid variable name while 100 is invalid?"
      ]
    },
    {
      "cell_type": "markdown",
      "id": "69519fb8",
      "metadata": {
        "id": "69519fb8"
      },
      "source": [
        "eggs is a valid variable because a variable can contain letters A-Z or a-z, _ and numeric values. However, 100 is not a valid variable name as it cannot start with a numeric value or contain a space or special character like @#$&,etc\n"
      ]
    },
    {
      "cell_type": "code",
      "execution_count": null,
      "id": "1fc4b6a4",
      "metadata": {
        "id": "1fc4b6a4"
      },
      "outputs": [],
      "source": []
    },
    {
      "cell_type": "markdown",
      "id": "67dc604e",
      "metadata": {
        "id": "67dc604e"
      },
      "source": [
        "#9. What three functions can be used to get the integer, floating-point number, or string version of a value?"
      ]
    },
    {
      "cell_type": "markdown",
      "id": "71cc4116",
      "metadata": {
        "id": "71cc4116"
      },
      "source": [
        "There are functions in python which can help you to convert a data type from a specific type to another type.\n",
        "\n",
        "Integer: int()\n",
        "Float: float()\n",
        "String: str()\n",
        "\n",
        "The functions mentioned above are used for casting (convert) one data type to another."
      ]
    },
    {
      "cell_type": "markdown",
      "source": [
        "##10. Why does this expression cause an error? How can you fix it?"
      ],
      "metadata": {
        "id": "6FHCNuu-cJb8"
      },
      "id": "6FHCNuu-cJb8"
    },
    {
      "cell_type": "code",
      "execution_count": 3,
      "id": "e6137bd8",
      "metadata": {
        "colab": {
          "base_uri": "https://localhost:8080/",
          "height": 165
        },
        "id": "e6137bd8",
        "outputId": "d1f95c6c-d1b6-4e88-c126-71b5240a8b43"
      },
      "outputs": [
        {
          "output_type": "error",
          "ename": "TypeError",
          "evalue": "ignored",
          "traceback": [
            "\u001b[0;31m---------------------------------------------------------------------------\u001b[0m",
            "\u001b[0;31mTypeError\u001b[0m                                 Traceback (most recent call last)",
            "\u001b[0;32m<ipython-input-3-f5781a105d59>\u001b[0m in \u001b[0;36m<cell line: 1>\u001b[0;34m()\u001b[0m\n\u001b[0;32m----> 1\u001b[0;31m \u001b[0;34m'I have eaten'\u001b[0m \u001b[0;34m+\u001b[0m \u001b[0;36m99\u001b[0m \u001b[0;34m+\u001b[0m \u001b[0;34m'burritos.'\u001b[0m\u001b[0;34m\u001b[0m\u001b[0;34m\u001b[0m\u001b[0m\n\u001b[0m",
            "\u001b[0;31mTypeError\u001b[0m: can only concatenate str (not \"int\") to str"
          ]
        }
      ],
      "source": [
        "'I have eaten' + 99 + 'burritos.'"
      ]
    },
    {
      "cell_type": "markdown",
      "id": "f5f2a7ca",
      "metadata": {
        "id": "f5f2a7ca"
      },
      "source": [
        "The error occurs because, python can only concatenate similiar data types together.\n",
        "In the question mentioned above, 'I have eaten' and 'burritos' are string values while 99 is an integer. To fix this issue, we need to convert the integer to a string first and then execute the code."
      ]
    },
    {
      "cell_type": "code",
      "execution_count": 2,
      "id": "d9581cad",
      "metadata": {
        "colab": {
          "base_uri": "https://localhost:8080/",
          "height": 38
        },
        "id": "d9581cad",
        "outputId": "603bc151-bf0b-49ca-c19a-646c623493c8"
      },
      "outputs": [
        {
          "output_type": "execute_result",
          "data": {
            "text/plain": [
              "'I have eaten 99 burritos.'"
            ],
            "application/vnd.google.colaboratory.intrinsic+json": {
              "type": "string"
            }
          },
          "metadata": {},
          "execution_count": 2
        }
      ],
      "source": [
        "#correction\n",
        "\n",
        "'I have eaten' + ' 99 ' + 'burritos.'"
      ]
    }
  ],
  "metadata": {
    "kernelspec": {
      "display_name": "Python 3 (ipykernel)",
      "language": "python",
      "name": "python3"
    },
    "language_info": {
      "codemirror_mode": {
        "name": "ipython",
        "version": 3
      },
      "file_extension": ".py",
      "mimetype": "text/x-python",
      "name": "python",
      "nbconvert_exporter": "python",
      "pygments_lexer": "ipython3",
      "version": "3.10.9"
    },
    "colab": {
      "provenance": [],
      "include_colab_link": true
    }
  },
  "nbformat": 4,
  "nbformat_minor": 5
}