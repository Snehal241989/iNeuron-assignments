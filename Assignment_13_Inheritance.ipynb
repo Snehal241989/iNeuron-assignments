{
  "nbformat": 4,
  "nbformat_minor": 0,
  "metadata": {
    "colab": {
      "provenance": [],
      "authorship_tag": "ABX9TyPslYj55A6NzDAUvgLjt/nR",
      "include_colab_link": true
    },
    "kernelspec": {
      "name": "python3",
      "display_name": "Python 3"
    },
    "language_info": {
      "name": "python"
    }
  },
  "cells": [
    {
      "cell_type": "markdown",
      "metadata": {
        "id": "view-in-github",
        "colab_type": "text"
      },
      "source": [
        "<a href=\"https://colab.research.google.com/github/rooftopmunda/iNeuron-assignments/blob/main/Assignment_13_Inheritance.ipynb\" target=\"_parent\"><img src=\"https://colab.research.google.com/assets/colab-badge.svg\" alt=\"Open In Colab\"/></a>"
      ]
    },
    {
      "cell_type": "markdown",
      "source": [
        "# 1. Explain what inheritance is in object-oriented programming and why it is used."
      ],
      "metadata": {
        "id": "wc7Qd9XZ16Y6"
      }
    },
    {
      "cell_type": "markdown",
      "source": [
        "Inheritance is a fundamental concept in object-oriented programming (OOP) that allows a class to inherit properties and behaviors from another class. It enables code reuse and promotes the creation of hierarchical relationships between classes. The class that is being inherited from is called the base class or superclass, while the class that inherits from it is called the derived class or subclass. Inheritance is used to model real-world relationships, such as a \"Car\" class inheriting from a \"Vehicle\" class, where the Car class inherits the attributes and methods of the Vehicle class."
      ],
      "metadata": {
        "id": "0W0aiEpW16bq"
      }
    },
    {
      "cell_type": "markdown",
      "source": [
        "# 2. Discuss the concept of single inheritance and multiple inheritance, highlighting their differences and advantages."
      ],
      "metadata": {
        "id": "JTKRCMok16eR"
      }
    },
    {
      "cell_type": "markdown",
      "source": [
        "Single inheritance and multiple inheritance are two types of inheritance in OOP. Single inheritance allows a class to inherit from only one base class, while multiple inheritance allows a class to inherit from multiple base classes. The main difference between them is that single inheritance provides a simpler and more straightforward class hierarchy, while multiple inheritance allows for greater flexibility and code reuse by inheriting from multiple sources."
      ],
      "metadata": {
        "id": "sL1MO8W016gh"
      }
    },
    {
      "cell_type": "markdown",
      "source": [
        "# 3. Explain the terms \"base class\" and \"derived class\" in the context of inheritance."
      ],
      "metadata": {
        "id": "skN8fNEi16jJ"
      }
    },
    {
      "cell_type": "markdown",
      "source": [
        "In the context of inheritance, the base class refers to the class that is being inherited from. It is also known as the superclass or parent class. The derived class, on the other hand, refers to the class that inherits from the base class. It is also known as the subclass or child class. The derived class inherits the attributes and methods of the base class and can also add its own unique attributes and methods."
      ],
      "metadata": {
        "id": "Jxv1iB2r16lR"
      }
    },
    {
      "cell_type": "markdown",
      "source": [
        "# 4. What is the significance of the \"protected\" access modifier in inheritance? How does it differ from \"private\" and \"public\" modifiers?"
      ],
      "metadata": {
        "id": "mXVArcoe16oU"
      }
    },
    {
      "cell_type": "markdown",
      "source": [
        "The protected access modifier in inheritance has significance in terms of visibility and accessibility. When a member (attribute or method) is declared as protected in the base class, it can be accessed by the derived class but not by other classes outside the inheritance hierarchy. This allows the derived class to directly access and modify the protected members of the base class, promoting code reuse and encapsulation. Also, \"private\" members are only accessible within the class itself, while \"public\" members are accessible by any class"
      ],
      "metadata": {
        "id": "o022bz9V16vK"
      }
    },
    {
      "cell_type": "markdown",
      "source": [
        "# 5. What is the purpose of the \"super\" keyword in inheritance? Provide an example."
      ],
      "metadata": {
        "id": "_TCjobBp16xx"
      }
    },
    {
      "cell_type": "markdown",
      "source": [
        "The \"super\" keyword in inheritance is used to refer to the superclass or base class. It is primarily used to call the superclass's constructor or access its methods and attributes from the derived class."
      ],
      "metadata": {
        "id": "65v_1TKw160b"
      }
    },
    {
      "cell_type": "code",
      "source": [
        "class Vehicle:\n",
        "    def __init__(self, make, model, year):\n",
        "        self.make = make\n",
        "        self.model = model\n",
        "        self.year = year\n",
        "\n",
        "class Car(Vehicle):\n",
        "    def __init__(self, make, model, year, fuel_type):\n",
        "        super().__init__(make, model, year)\n",
        "        self.fuel_type = fuel_type\n",
        "\n",
        "car = Car(\"Toyota\", \"Corolla Altis\", 2023, \"petrol\")\n",
        "print(car.make)\n",
        "print(car.fuel_type)"
      ],
      "metadata": {
        "colab": {
          "base_uri": "https://localhost:8080/"
        },
        "id": "S87HIhoa3MS8",
        "outputId": "9bcff560-8cf9-4037-e0c9-b20c9aac9c3a"
      },
      "execution_count": 2,
      "outputs": [
        {
          "output_type": "stream",
          "name": "stdout",
          "text": [
            "Toyota\n",
            "petrol\n"
          ]
        }
      ]
    },
    {
      "cell_type": "markdown",
      "source": [
        "# 6. Create a base class called \"Vehicle\" with attributes like \"make\", \"model\", and \"year\". Then, create a derived class called \"Car\" that inherits from \"Vehicle\" and adds an attribute called \"fuel_type\". Implement appropriate methods in both classes."
      ],
      "metadata": {
        "id": "N1Wzbeir163M"
      }
    },
    {
      "cell_type": "code",
      "source": [
        "class Vehicle:\n",
        "    def __init__(self, make, model, year):\n",
        "        self.make = make\n",
        "        self.model = model\n",
        "        self.year = year\n",
        "\n",
        "class Car(Vehicle):\n",
        "    def __init__(self, make, model, year, fuel_type):\n",
        "        super().__init__(make, model, year)\n",
        "        self.fuel_type = fuel_type\n",
        "\n",
        "    def start_engine(self):\n",
        "        print(\"Engine started.\")\n",
        "\n",
        "vehicle = Vehicle(\"Toyota\", \"Corolla Altis\", 2023)\n",
        "print(vehicle.make)\n",
        "\n",
        "car = Car(\"Toyota\", \"Corolla Altis\", 2023, \"Petrol\")\n",
        "print(car.make)\n",
        "print(car.fuel_type)\n",
        "car.start_engine()"
      ],
      "metadata": {
        "colab": {
          "base_uri": "https://localhost:8080/"
        },
        "id": "g_jU9nbk3lkC",
        "outputId": "7ce7999b-2f65-4334-87ee-8ec056f6a152"
      },
      "execution_count": 3,
      "outputs": [
        {
          "output_type": "stream",
          "name": "stdout",
          "text": [
            "Toyota\n",
            "Toyota\n",
            "Petrol\n",
            "Engine started.\n"
          ]
        }
      ]
    },
    {
      "cell_type": "markdown",
      "source": [
        "# 7. Create a base class called \"Employee\" with attributes like \"name\" and \"salary.\" Derive two classes, \"Manager\" and \"Developer,\" from \"Employee.\" Add an additional attribute called \"department\" for the \"Manager\" class and \"programming_language\" for the \"Developer\" class."
      ],
      "metadata": {
        "id": "Toj-3tT3165B"
      }
    },
    {
      "cell_type": "code",
      "source": [
        "class Employee:\n",
        "    def __init__(self, name, salary):\n",
        "        self.name = name\n",
        "        self.salary = salary\n",
        "\n",
        "class Manager(Employee):\n",
        "    def __init__(self, name, salary, department):\n",
        "        super().__init__(name, salary)\n",
        "        self.department = department\n",
        "\n",
        "class Developer(Employee):\n",
        "    def __init__(self, name, salary, programming_language):\n",
        "        super().__init__(name, salary)\n",
        "        self.programming_language = programming_language\n",
        "\n",
        "manager = Manager(\"Sudhanshu Kumar\", 5000, \"Sales\")\n",
        "print(manager.name)\n",
        "print(manager.department)\n",
        "\n",
        "developer = Developer(\"Krish Naik\", 400000, \"Python\")\n",
        "print(developer.name)\n",
        "print(developer.programming_language)"
      ],
      "metadata": {
        "colab": {
          "base_uri": "https://localhost:8080/"
        },
        "id": "-oruTO6n4CKC",
        "outputId": "bf31f217-98b2-4f84-c19e-c21773216afd"
      },
      "execution_count": 4,
      "outputs": [
        {
          "output_type": "stream",
          "name": "stdout",
          "text": [
            "Sudhanshu Kumar\n",
            "Sales\n",
            "Krish Naik\n",
            "Python\n"
          ]
        }
      ]
    },
    {
      "cell_type": "markdown",
      "source": [
        "# 8. Design a base class called \"Shape\" with attributes like \"colour\" and \"border_width.\" Create derived classes, \"Rectangle\" and \"Circle,\" that inherit from \"Shape\" and add specific attributes like \"length\" and \"width\" for the \"Rectangle\" class and \"radius\" for the \"Circle\" class."
      ],
      "metadata": {
        "id": "M8WW2KPw38CP"
      }
    },
    {
      "cell_type": "code",
      "source": [
        "class Shape:\n",
        "    def __init__(self, colour, border_width):\n",
        "        self.colour = colour\n",
        "        self.border_width = border_width\n",
        "\n",
        "class Rectangle(Shape):\n",
        "    def __init__(self, colour, border_width, length, width):\n",
        "        super().__init__(colour, border_width)\n",
        "        self.length = length\n",
        "        self.width = width\n",
        "\n",
        "class Circle(Shape):\n",
        "    def __init__(self, colour, border_width, radius):\n",
        "        super().__init__(colour, border_width)\n",
        "        self.radius = radius\n",
        "\n",
        "rectangle = Rectangle(\"Red\", 2, 10, 5)\n",
        "print(rectangle.colour)\n",
        "print(rectangle.length)\n",
        "print(rectangle.width)\n",
        "\n",
        "circle = Circle(\"Blue\", 1, 7)\n",
        "print(circle.colour)\n",
        "print(circle.radius)"
      ],
      "metadata": {
        "colab": {
          "base_uri": "https://localhost:8080/"
        },
        "id": "4v4YDY7J4tOL",
        "outputId": "3094a62b-048d-4feb-ab3d-80e9670cf628"
      },
      "execution_count": 5,
      "outputs": [
        {
          "output_type": "stream",
          "name": "stdout",
          "text": [
            "Red\n",
            "10\n",
            "5\n",
            "Blue\n",
            "7\n"
          ]
        }
      ]
    },
    {
      "cell_type": "markdown",
      "source": [
        "# 9. Create a base class called \"Device\" with attributes like \"brand\" and \"model.\" Derive two classes, \"Phone\" and \"Tablet,\" from \"Device.\" Add specific attributes like \"screen_size\" for the \"Phone\" class and \"battery_capacity\" for the \"Tablet\" class."
      ],
      "metadata": {
        "id": "W9vWIQhg38An"
      }
    },
    {
      "cell_type": "code",
      "source": [
        "class Device:\n",
        "    def __init__(self, brand, model):\n",
        "        self.brand = brand\n",
        "        self.model = model\n",
        "\n",
        "class Phone(Device):\n",
        "    def __init__(self, brand, model, screen_size):\n",
        "        super().__init__(brand, model)\n",
        "        self.screen_size = screen_size\n",
        "\n",
        "class Tablet(Device):\n",
        "    def __init__(self, brand, model, battery_capacity):\n",
        "        super().__init__(brand, model)\n",
        "        self.battery_capacity = battery_capacity\n",
        "\n",
        "phone = Phone(\"Apple\", \"iPhone 15\", 6.1)\n",
        "print(phone.brand)\n",
        "print(phone.screen_size)\n",
        "\n",
        "tablet = Tablet(\"Samsung\", \"Galaxy Tab S7 Ultra Pro Max Plus\", 800000)\n",
        "print(tablet.brand)\n",
        "print(tablet.battery_capacity)"
      ],
      "metadata": {
        "colab": {
          "base_uri": "https://localhost:8080/"
        },
        "id": "EhAvoxme5MAc",
        "outputId": "b47e5ba2-1d3c-418a-9c5a-9b0b0c5910ea"
      },
      "execution_count": 8,
      "outputs": [
        {
          "output_type": "stream",
          "name": "stdout",
          "text": [
            "Apple\n",
            "6.1\n",
            "Samsung\n",
            "800000\n"
          ]
        }
      ]
    },
    {
      "cell_type": "markdown",
      "source": [
        "# 10. Create a base class called \"BankAccount\" with attributes like \"account_number\" and \"balance.\" Derive two classes, \"SavingsAccount\" and \"CheckingAccount,\" from \"BankAccount.\" Add specific methods like \"calculate_interest\" for the \"SavingsAccount\" class and \"deduct_fees\" for the \"CheckingAccount\" class."
      ],
      "metadata": {
        "id": "U5NCLUME5Laz"
      }
    },
    {
      "cell_type": "code",
      "source": [
        "class BankAccount:\n",
        "    def __init__(self, account_number, balance):\n",
        "        self.account_number = account_number\n",
        "        self.balance = balance\n",
        "\n",
        "class SavingsAccount(BankAccount):\n",
        "    def __init__(self, account_number, balance):\n",
        "        super().__init__(account_number, balance)\n",
        "\n",
        "    def calculate_interest(self):\n",
        "        interest_rate = 0.05\n",
        "        interest = self.balance * interest_rate\n",
        "        return interest\n",
        "\n",
        "class CheckingAccount(BankAccount):\n",
        "    def __init__(self, account_number, balance):\n",
        "        super().__init__(account_number, balance)\n",
        "\n",
        "    def deduct_fees(self):\n",
        "        fee = 10\n",
        "        self.balance -= fee\n",
        "\n",
        "savings_account = SavingsAccount(\"123456789\", 1000)\n",
        "print(savings_account.account_number)\n",
        "print(savings_account.balance)\n",
        "print(savings_account.calculate_interest())\n",
        "\n",
        "checking_account = CheckingAccount(\"987654321\", 500)\n",
        "print(checking_account.account_number)\n",
        "print(checking_account.balance)\n",
        "checking_account.deduct_fees()\n",
        "print(checking_account.balance)"
      ],
      "metadata": {
        "colab": {
          "base_uri": "https://localhost:8080/"
        },
        "id": "VSA4MQ2-5xZy",
        "outputId": "869c597a-b928-44bf-ad07-451144576c7c"
      },
      "execution_count": 9,
      "outputs": [
        {
          "output_type": "stream",
          "name": "stdout",
          "text": [
            "123456789\n",
            "1000\n",
            "50.0\n",
            "987654321\n",
            "500\n",
            "490\n"
          ]
        }
      ]
    }
  ]
}