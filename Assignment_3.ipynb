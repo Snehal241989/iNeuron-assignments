{
  "nbformat": 4,
  "nbformat_minor": 0,
  "metadata": {
    "colab": {
      "provenance": [],
      "authorship_tag": "ABX9TyNt6hvUT/njzlyO9YA1yZ+Q",
      "include_colab_link": true
    },
    "kernelspec": {
      "name": "python3",
      "display_name": "Python 3"
    },
    "language_info": {
      "name": "python"
    }
  },
  "cells": [
    {
      "cell_type": "markdown",
      "metadata": {
        "id": "view-in-github",
        "colab_type": "text"
      },
      "source": [
        "<a href=\"https://colab.research.google.com/github/rooftopmunda/iNeuron-assignments/blob/main/Assignment_3.ipynb\" target=\"_parent\"><img src=\"https://colab.research.google.com/assets/colab-badge.svg\" alt=\"Open In Colab\"/></a>"
      ]
    },
    {
      "cell_type": "markdown",
      "source": [
        "## 1. Why are functions advantageous to have in your programs?"
      ],
      "metadata": {
        "id": "rn_I_-EkV-2B"
      }
    },
    {
      "cell_type": "markdown",
      "source": [
        "Functions are advantageous to in the programs because of the following reasons:\n",
        "\n",
        "* Reusability: Avoid rewriting code by calling functions multiple times.\n",
        "* Modularity: Break complex tasks into smaller, manageable modules.\n",
        "* Readability: Descriptive function names make the code more understandable.\n",
        "* Abstraction: Hide implementation details from the caller.\n",
        "* Testing: Functions can be tested independently, which helps in debugging.\n",
        "* Easy to maintain: Changes are centralized, reducing bugs and improving code.\n",
        "* Collaboration: Facilitate parallel development with different team members.\n",
        "* Organization: Functions improve code structure and navigation.\n",
        "\n"
      ],
      "metadata": {
        "id": "W2OmCCHnWIgP"
      }
    },
    {
      "cell_type": "markdown",
      "source": [
        "## 2. When does the code in a function run: when it's specified or when it's called?"
      ],
      "metadata": {
        "id": "6J48Ep-NWvHE"
      }
    },
    {
      "cell_type": "markdown",
      "source": [
        "The code inside a function runs when the function is called, not when it is specified. Defining a function only creates a blueprint for what the function should do when it is invoked, but it does not execute the code inside the function at that moment but when we call a function, the program jumps to the function's definition and starts executing the code inside it."
      ],
      "metadata": {
        "id": "vjcpxw03XFUp"
      }
    },
    {
      "cell_type": "markdown",
      "source": [
        "## 3. What statement creates a function?"
      ],
      "metadata": {
        "id": "z2TZjBdFXZBL"
      }
    },
    {
      "cell_type": "markdown",
      "source": [
        "The \"def\" statement is used to create a function. It is followed by the function name, a pair of parentheses (), and a colon :\n",
        "* Ex: def add_num(x,y):"
      ],
      "metadata": {
        "id": "HwWL0XrzXg9g"
      }
    },
    {
      "cell_type": "markdown",
      "source": [
        "## 4. What is the difference between a function and a function call?"
      ],
      "metadata": {
        "id": "rW3BVXSpYQpy"
      }
    },
    {
      "cell_type": "markdown",
      "source": [
        "* Function: A block of code defined using def that performs a specific task. It can take inputs and optionally return a value.\n",
        "\n",
        "* Function Call: The execution of a function's code using the function's name with parentheses and, if necessary, passing arguments to it."
      ],
      "metadata": {
        "id": "jUUKrsf-YV7V"
      }
    },
    {
      "cell_type": "markdown",
      "source": [
        "## 5. How many global scopes are there in a Python program? How many local scopes?"
      ],
      "metadata": {
        "id": "M5RJY-aUYqjw"
      }
    },
    {
      "cell_type": "markdown",
      "source": [
        "In a Python program:\n",
        "\n",
        "**Global Scopes:** There is only one global scope. It is the top-level scope that exists throughout the entire program and includes all the variables defined at the outermost level of the script or module. Variables defined in the global scope can be accessed from anywhere within the program.\n",
        "\n",
        "**Local Scopes:** The number of local scopes depends on the number of function or method calls made during the program's execution. Each time a function or method is called, a new local scope is created for that specific call. Local scopes are temporary and are cleaned up once the function or method execution is completed. Variables defined within a function or method are limited to their respective local scopes and cannot be accessed from outside unless returned explicitly."
      ],
      "metadata": {
        "id": "SWTRIUjJY4O_"
      }
    },
    {
      "cell_type": "markdown",
      "source": [
        "## 6. What happens to variables in a local scope when the function call returns?"
      ],
      "metadata": {
        "id": "jqZS-3qeZcab"
      }
    },
    {
      "cell_type": "markdown",
      "source": [
        "When a function call returns in Python, the local scope of that function is destroyed, and the variables defined within that scope cease to exist. This process is known as the \"cleanup\" or \"destruction\" of the local scope."
      ],
      "metadata": {
        "id": "rdFj5MeVjEHu"
      }
    },
    {
      "cell_type": "code",
      "source": [
        "def add_num():\n",
        "    x = 10\n",
        "    y = 20\n",
        "    result = x + y\n",
        "    return result\n",
        "\n",
        "output = add_num()\n",
        "print(output)\n"
      ],
      "metadata": {
        "colab": {
          "base_uri": "https://localhost:8080/"
        },
        "id": "2ftAo78qZ4or",
        "outputId": "b70123fb-d695-43f2-a9e5-9c1c4fda7a4e"
      },
      "execution_count": 3,
      "outputs": [
        {
          "output_type": "stream",
          "name": "stdout",
          "text": [
            "30\n"
          ]
        }
      ]
    },
    {
      "cell_type": "code",
      "source": [
        "print(x)"
      ],
      "metadata": {
        "colab": {
          "base_uri": "https://localhost:8080/",
          "height": 171
        },
        "id": "WaWYm1w2jnaK",
        "outputId": "82080135-5032-4cba-d430-04ed3f469afc"
      },
      "execution_count": 4,
      "outputs": [
        {
          "output_type": "error",
          "ename": "NameError",
          "evalue": "ignored",
          "traceback": [
            "\u001b[0;31m---------------------------------------------------------------------------\u001b[0m",
            "\u001b[0;31mNameError\u001b[0m                                 Traceback (most recent call last)",
            "\u001b[0;32m<ipython-input-4-fc17d851ef81>\u001b[0m in \u001b[0;36m<cell line: 1>\u001b[0;34m()\u001b[0m\n\u001b[0;32m----> 1\u001b[0;31m \u001b[0mprint\u001b[0m\u001b[0;34m(\u001b[0m\u001b[0mx\u001b[0m\u001b[0;34m)\u001b[0m\u001b[0;34m\u001b[0m\u001b[0;34m\u001b[0m\u001b[0m\n\u001b[0m",
            "\u001b[0;31mNameError\u001b[0m: name 'x' is not defined"
          ]
        }
      ]
    },
    {
      "cell_type": "markdown",
      "source": [
        "when the add_num() function is called, it creates variables x, y, and result within its local scope. After the function call returns and the local scope is destroyed, these variables are no longer accessible, and trying to access them outside the function results in a NameError."
      ],
      "metadata": {
        "id": "HDzbyT1hkGH7"
      }
    },
    {
      "cell_type": "markdown",
      "source": [
        "## 7. What is the concept of a return value? Is it possible to have a return value in an expression?"
      ],
      "metadata": {
        "id": "9GlWE6Xcsyn1"
      }
    },
    {
      "cell_type": "markdown",
      "source": [
        "A return value in python is the value a function sends back to the caller after completing its execution. It is specified using the return statement, and yes it can be used in expressions, assigned to variables, or passed as arguments to other functions."
      ],
      "metadata": {
        "id": "C9wTCCbdt6XE"
      }
    },
    {
      "cell_type": "markdown",
      "source": [
        "# 8. If a function does not have a return statement, what is the return value of a call to that function?"
      ],
      "metadata": {
        "id": "ojXm00_euQTB"
      }
    },
    {
      "cell_type": "markdown",
      "source": [
        "If a function does not have a return statement, the return value of a call to that function will be None. When a function does not explicitly specify a return value, it automatically returns None by default."
      ],
      "metadata": {
        "id": "opLXqdn-v9Ot"
      }
    },
    {
      "cell_type": "code",
      "source": [
        "def age(age):\n",
        "  print(f\"you are {age} years old\")\n",
        "\n",
        "aged = age(25)\n",
        "print(aged)"
      ],
      "metadata": {
        "colab": {
          "base_uri": "https://localhost:8080/"
        },
        "id": "sp-fm74jvgAF",
        "outputId": "32d6b93a-ce12-4673-8050-9f74f893d5a3"
      },
      "execution_count": 17,
      "outputs": [
        {
          "output_type": "stream",
          "name": "stdout",
          "text": [
            "you are 25 years old\n",
            "None\n"
          ]
        }
      ]
    },
    {
      "cell_type": "code",
      "source": [
        "def ages(age):\n",
        "    return f\"You are {age} years old\"\n",
        "\n",
        "aged1 = ages(25)\n",
        "print(aged1)"
      ],
      "metadata": {
        "colab": {
          "base_uri": "https://localhost:8080/"
        },
        "id": "dJrfZJH2wY4D",
        "outputId": "cd08d2a7-9f77-4bb9-a5b2-e03c8027f5b8"
      },
      "execution_count": 21,
      "outputs": [
        {
          "output_type": "stream",
          "name": "stdout",
          "text": [
            "You are 25 years old\n"
          ]
        }
      ]
    },
    {
      "cell_type": "markdown",
      "source": [
        "# 9. How do you make a function variable refer to the global variable?"
      ],
      "metadata": {
        "id": "Okd_3zQxxBlq"
      }
    },
    {
      "cell_type": "markdown",
      "source": [
        "To make a function variable refer to the global variable, we can use the global keyword inside the function. This keyword tells the function that a specific variable should be treated as a global variable, even if there is a variable with the same name in the local scope of the function."
      ],
      "metadata": {
        "id": "NrvLTLGIxOF5"
      }
    },
    {
      "cell_type": "code",
      "source": [
        "number = 100\n",
        "\n",
        "def test():\n",
        "    global number\n",
        "    number = 200\n",
        "\n",
        "print(\"Before function call:\", number)\n",
        "test()\n",
        "print(\"After function call:\", number)\n"
      ],
      "metadata": {
        "colab": {
          "base_uri": "https://localhost:8080/"
        },
        "id": "X-rHXy-XxOq6",
        "outputId": "79b0767c-2e8b-4769-cc5f-8e8da2fcdbaf"
      },
      "execution_count": 23,
      "outputs": [
        {
          "output_type": "stream",
          "name": "stdout",
          "text": [
            "Before function call: 100\n",
            "After function call: 200\n"
          ]
        }
      ]
    },
    {
      "cell_type": "markdown",
      "source": [
        "#10. What is the data type of None?"
      ],
      "metadata": {
        "id": "IcJ0bSb5yMhl"
      }
    },
    {
      "cell_type": "markdown",
      "source": [
        "The data type of None in Python is NoneType. It is a special built-in type that represents the absence of a value or a null value."
      ],
      "metadata": {
        "id": "AQ_7DRWoyMfc"
      }
    },
    {
      "cell_type": "code",
      "source": [
        "print(type(None))\n"
      ],
      "metadata": {
        "colab": {
          "base_uri": "https://localhost:8080/"
        },
        "id": "ZsG0vlLHybGi",
        "outputId": "f5d21597-72de-4953-f2d1-3c727fe85551"
      },
      "execution_count": 24,
      "outputs": [
        {
          "output_type": "stream",
          "name": "stdout",
          "text": [
            "<class 'NoneType'>\n"
          ]
        }
      ]
    },
    {
      "cell_type": "markdown",
      "source": [
        "# 11. What does the sentence import areallyourpetsnamederic do?"
      ],
      "metadata": {
        "id": "_4wFIHOczhix"
      }
    },
    {
      "cell_type": "markdown",
      "source": [
        "The import keyword is used to bring modules into the current script or program's namespace, allowing you to use their contents.\n",
        "\n",
        "If there were a module named \"areallyourpetsnamederic.py\" in your python environment, the import statement would make the functions, classes, and variables defined in that module accessible within your current script or program.\n",
        "\n",
        "If you had a Python module named \"areallyourpetsnamederic.py\" containing a function called greet_pet() that greets a pet named Eric, you could use the import statement like this:\n"
      ],
      "metadata": {
        "id": "O7tuKA9xyMdL"
      }
    },
    {
      "cell_type": "code",
      "source": [
        "import areallyourpetsnamederic\n",
        "\n",
        "areallyourpetsnamederic.greet_pet(\"Eric\")"
      ],
      "metadata": {
        "id": "2TgOdSqUzX29"
      },
      "execution_count": null,
      "outputs": []
    },
    {
      "cell_type": "markdown",
      "source": [
        "# 12. If you had a bacon() feature in a spam module, what would you call it after importing spam?"
      ],
      "metadata": {
        "id": "aj6PMGyeyMXs"
      }
    },
    {
      "cell_type": "markdown",
      "source": [
        "After importing the \"spam\" module, we can call the \"bacon()\" function from the module using the following syntax:\n",
        "\n",
        "```\n",
        "import spam\n",
        "\n",
        "spam.bacon()\n",
        "```\n",
        "\n",
        "We assume that the \"spam\" module contains a function named \"bacon()\". By using the \"import\" statement, we bring the entire \"spam\" module into our current script or program's namespace, and then we can access its functions, classes, and variables using the module name followed by a dot and the specific function or attribute name."
      ],
      "metadata": {
        "id": "yzCob34ZyMUs"
      }
    },
    {
      "cell_type": "markdown",
      "source": [
        "# 13. What can you do to save a programme from crashing if it encounters an error?"
      ],
      "metadata": {
        "id": "8H3o84wS-b6T"
      }
    },
    {
      "cell_type": "markdown",
      "source": [
        "To prevent a program from crashing when it encounters an error, we can use error handling techniques. To handle exceptions, we can use a try block to enclose the code that might raise an error, and one or more except blocks to define how to handle specific types of exceptions. If an exception occurs within the try block, the corresponding except block is executed, and the program continues running after the error has been handled."
      ],
      "metadata": {
        "id": "yIUJBtlB-ZpJ"
      }
    },
    {
      "cell_type": "code",
      "source": [
        "def divide(a, b):\n",
        "    try:\n",
        "        result = a / b\n",
        "        return result\n",
        "    except ZeroDivisionError:\n",
        "        print(\"Error: Division by zero is not allowed.\")\n",
        "        return None"
      ],
      "metadata": {
        "id": "MWpF0PdjxtKi"
      },
      "execution_count": 31,
      "outputs": []
    },
    {
      "cell_type": "code",
      "source": [
        "divide(500,0)\n",
        "round(divide(500,3), 3)"
      ],
      "metadata": {
        "colab": {
          "base_uri": "https://localhost:8080/"
        },
        "id": "mwVEn_153yYR",
        "outputId": "806cd9b8-b3b9-448a-d7d4-0cef03838ef1"
      },
      "execution_count": 35,
      "outputs": [
        {
          "output_type": "stream",
          "name": "stdout",
          "text": [
            "Error: Division by zero is not allowed.\n"
          ]
        },
        {
          "output_type": "execute_result",
          "data": {
            "text/plain": [
              "166.667"
            ]
          },
          "metadata": {},
          "execution_count": 35
        }
      ]
    },
    {
      "cell_type": "markdown",
      "source": [
        "#14. What is the purpose of the try clause? What is the purpose of the except clause?"
      ],
      "metadata": {
        "id": "Doa2wlseBCrX"
      }
    },
    {
      "cell_type": "markdown",
      "source": [
        "The try clause is used to enclose code that might raise an exception, and the except clause is used to handle specific types of exceptions that may occur in the try block. Together, they implement error handling and prevent program crashes."
      ],
      "metadata": {
        "id": "_N2s0eY-BMTc"
      }
    }
  ]
}