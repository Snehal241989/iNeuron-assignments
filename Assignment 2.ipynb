{
  "cells": [
    {
      "cell_type": "markdown",
      "metadata": {
        "id": "view-in-github",
        "colab_type": "text"
      },
      "source": [
        "<a href=\"https://colab.research.google.com/github/rooftopmunda/iNeuron-assignments/blob/main/Assignment%202.ipynb\" target=\"_parent\"><img src=\"https://colab.research.google.com/assets/colab-badge.svg\" alt=\"Open In Colab\"/></a>"
      ]
    },
    {
      "cell_type": "markdown",
      "id": "0f6a6342",
      "metadata": {
        "id": "0f6a6342"
      },
      "source": [
        "#1.What are the two values of the Boolean data type? How do you write them?"
      ]
    },
    {
      "cell_type": "markdown",
      "id": "780d3660",
      "metadata": {
        "id": "780d3660"
      },
      "source": [
        "The 2 values of Boolean data type are:\n",
        "True and False\n",
        "x = True\n",
        "y = False\n",
        "They are case sensitive.\n",
        "It is represented as True() and False()\n",
        "The same concept is true when using the 'in' function. It returns a value either \"True\" or \"False\" based on the condition."
      ]
    },
    {
      "cell_type": "markdown",
      "id": "363f9ab0",
      "metadata": {
        "id": "363f9ab0"
      },
      "source": [
        "#2. What are the three different types of Boolean operators?\n",
        "\n",
        "The 3 types of Boolean operator are \"and\" \"or\" \"not\"\n",
        "\n",
        "and operator: It return the value as true if both the statements are true.\n",
        "or operator: It returns the value as true if on of the statements is true.\n",
        "not operator: It reverses the result."
      ]
    },
    {
      "cell_type": "code",
      "execution_count": null,
      "id": "225fc599",
      "metadata": {
        "id": "225fc599",
        "outputId": "c89dc83a-02b2-4ac5-b736-331082eb1aed"
      },
      "outputs": [
        {
          "data": {
            "text/plain": [
              "False"
            ]
          },
          "execution_count": 5,
          "metadata": {},
          "output_type": "execute_result"
        }
      ],
      "source": [
        "#Example\n",
        "\n",
        "x = 5\n",
        "y = 6\n",
        "\n",
        "#And\n",
        "x < y and y > x\n",
        "\n",
        "#OR\n",
        "\n",
        "x > y or y > x\n",
        "\n",
        "#Not\n",
        "\n",
        "not( x<y and y>x)\n"
      ]
    },
    {
      "cell_type": "markdown",
      "id": "17539505",
      "metadata": {
        "id": "17539505"
      },
      "source": [
        "#3. Make a list of each Boolean operator's truth tables (i.e. every possible combination of Boolean values for the operator and what it evaluate)."
      ]
    },
    {
      "cell_type": "markdown",
      "id": "15fb6961",
      "metadata": {
        "id": "15fb6961"
      },
      "source": [
        "copy this link to see the truth table made on google sheets\n",
        "[Truth Table](https://t.ly/RVAP)"
      ]
    },
    {
      "cell_type": "markdown",
      "id": "14e88d97",
      "metadata": {
        "id": "14e88d97"
      },
      "source": [
        "#4. What are the values of the following expressions?\n",
        "(5 > 4) and (3 == 5)\n",
        "not (5 > 4)\n",
        "(5 > 4) or (3 == 5)\n",
        "not ((5 > 4) or (3 == 5))\n",
        "(True and True) and (True == False)\n",
        "(not False) or (not True)"
      ]
    },
    {
      "cell_type": "code",
      "execution_count": null,
      "id": "81507d32",
      "metadata": {
        "id": "81507d32",
        "outputId": "0322c549-2a24-4405-a1ce-0fa5d6bb2b92"
      },
      "outputs": [
        {
          "data": {
            "text/plain": [
              "False"
            ]
          },
          "execution_count": 9,
          "metadata": {},
          "output_type": "execute_result"
        }
      ],
      "source": [
        "( 5 > 4 ) and ( 3 == 5)\n"
      ]
    },
    {
      "cell_type": "code",
      "execution_count": null,
      "id": "171d128a",
      "metadata": {
        "id": "171d128a",
        "outputId": "20d2167a-5436-411a-e64d-e71a403f0449"
      },
      "outputs": [
        {
          "data": {
            "text/plain": [
              "False"
            ]
          },
          "execution_count": 10,
          "metadata": {},
          "output_type": "execute_result"
        }
      ],
      "source": [
        "not (5 > 4)"
      ]
    },
    {
      "cell_type": "code",
      "execution_count": null,
      "id": "1cc0bf5f",
      "metadata": {
        "id": "1cc0bf5f",
        "outputId": "69b072d8-22ec-44d8-d21c-a1850486ea8e"
      },
      "outputs": [
        {
          "data": {
            "text/plain": [
              "True"
            ]
          },
          "execution_count": 11,
          "metadata": {},
          "output_type": "execute_result"
        }
      ],
      "source": [
        "(5 > 4) or (3 == 5)"
      ]
    },
    {
      "cell_type": "code",
      "execution_count": null,
      "id": "bfe860f0",
      "metadata": {
        "id": "bfe860f0",
        "outputId": "882ff4ca-ac21-4e67-8579-6008f00253a2"
      },
      "outputs": [
        {
          "data": {
            "text/plain": [
              "False"
            ]
          },
          "execution_count": 12,
          "metadata": {},
          "output_type": "execute_result"
        }
      ],
      "source": [
        "not ((5 > 4) or (3 == 5))"
      ]
    },
    {
      "cell_type": "code",
      "execution_count": null,
      "id": "0e347083",
      "metadata": {
        "id": "0e347083",
        "outputId": "bb722df1-78d8-40b3-d777-1859b8b6956b"
      },
      "outputs": [
        {
          "data": {
            "text/plain": [
              "False"
            ]
          },
          "execution_count": 13,
          "metadata": {},
          "output_type": "execute_result"
        }
      ],
      "source": [
        "(True and True) and (True == False)"
      ]
    },
    {
      "cell_type": "code",
      "execution_count": null,
      "id": "1bd15294",
      "metadata": {
        "id": "1bd15294",
        "outputId": "dd3090c0-c042-4c6f-9406-a8f004d76791"
      },
      "outputs": [
        {
          "data": {
            "text/plain": [
              "True"
            ]
          },
          "execution_count": 14,
          "metadata": {},
          "output_type": "execute_result"
        }
      ],
      "source": [
        "(not False) or (not True)"
      ]
    },
    {
      "cell_type": "markdown",
      "id": "8f83a49e",
      "metadata": {
        "id": "8f83a49e"
      },
      "source": [
        "#5. What are the six comparison operators?"
      ]
    },
    {
      "cell_type": "code",
      "execution_count": null,
      "id": "6724ffc2",
      "metadata": {
        "collapsed": true,
        "id": "6724ffc2",
        "outputId": "340372b0-ce42-430a-fe16-52502580d2cf"
      },
      "outputs": [
        {
          "data": {
            "text/plain": [
              "'< - Greater than\\n> - less than\\n== - Is equal to \\n<= - Greater than or equal to\\n>= - Less than or equal to\\n!= - not equal to'"
            ]
          },
          "execution_count": 16,
          "metadata": {},
          "output_type": "execute_result"
        }
      ],
      "source": [
        "#The 6 comparison operators are as follows: \n",
        "#These comparison operators return a Boolean value (True or False) based on the evaluation\n",
        "'''\n",
        "> - Greater than\n",
        "< - less than\n",
        "== - Is equal to \n",
        ">= - Greater than or equal to\n",
        "<= - Less than or equal to\n",
        "!= - not equal to\n",
        "'''"
      ]
    },
    {
      "cell_type": "markdown",
      "id": "3a6e7774",
      "metadata": {
        "id": "3a6e7774"
      },
      "source": [
        "#6. How do you tell the difference between the equal to and assignment operators?Describe a condition and when you would use one."
      ]
    },
    {
      "cell_type": "markdown",
      "id": "9bc89d11",
      "metadata": {
        "id": "9bc89d11"
      },
      "source": [
        "The difference between the equal to and assignment operator is as follows:\n",
        "\n",
        "== operator : It evaluates if the given value is exactly equal to the other value. (It compares both the values)\n",
        "\n",
        "=  assignment operator: It assigns a value to a given variable.\n",
        "\n",
        "Example:\n",
        "\n",
        "a = 10\n",
        "b = 10\n",
        "\n",
        "if a == b:\n",
        "   print(\"OK\")\n",
        "The output will be OK if the comparison condition is met.\n",
        "\n",
        "The variables a and b are assigned a value by using the = sign."
      ]
    },
    {
      "cell_type": "markdown",
      "id": "234cd9e9",
      "metadata": {
        "id": "234cd9e9"
      },
      "source": [
        "#7. Identify the three blocks in this code:"
      ]
    },
    {
      "cell_type": "code",
      "execution_count": null,
      "id": "2f80ab04",
      "metadata": {
        "collapsed": true,
        "id": "2f80ab04",
        "outputId": "5a64ea52-1b5e-475e-cc7a-526b85871154"
      },
      "outputs": [
        {
          "ename": "IndentationError",
          "evalue": "expected an indented block after 'if' statement on line 2 (2373325787.py, line 3)",
          "output_type": "error",
          "traceback": [
            "\u001b[1;36m  Cell \u001b[1;32mIn[17], line 3\u001b[1;36m\u001b[0m\n\u001b[1;33m    print('eggs')\u001b[0m\n\u001b[1;37m    ^\u001b[0m\n\u001b[1;31mIndentationError\u001b[0m\u001b[1;31m:\u001b[0m expected an indented block after 'if' statement on line 2\n"
          ]
        }
      ],
      "source": [
        "spam = 0\n",
        "if spam == 10:\n",
        "print('eggs')\n",
        "if spam > 5:\n",
        "print('bacon')\n",
        "else:\n",
        "print('ham')\n",
        "print('spam')\n",
        "print('spam')"
      ]
    },
    {
      "cell_type": "code",
      "execution_count": null,
      "id": "faccd9cc",
      "metadata": {
        "id": "faccd9cc",
        "outputId": "69d34d55-2505-4086-b227-d78ac682fe4b"
      },
      "outputs": [
        {
          "name": "stdout",
          "output_type": "stream",
          "text": [
            "ham\n",
            "spam\n",
            "spam\n"
          ]
        }
      ],
      "source": [
        "#correction : Indentation is missing from the code, Indentation is very important to group\n",
        "#blocks of code together, else python wouldn't understand which function to execute with which block of code.\n",
        "#There are 5 print statements, hence to correctly execute the code, it has to be indented properly.\n",
        "spam = 0\n",
        "if spam == 10:\n",
        "    print('eggs')\n",
        "if spam > 5:\n",
        "    print('bacon')\n",
        "else:\n",
        "    print('ham')\n",
        "    print('spam')\n",
        "    print('spam')"
      ]
    },
    {
      "cell_type": "markdown",
      "id": "d91cfde0",
      "metadata": {
        "id": "d91cfde0"
      },
      "source": [
        "#8. Write code that prints Hello if 1 is stored in spam, prints Howdy if 2 is stored in spam, and prints Greetings! if anything else is stored in spam."
      ]
    },
    {
      "cell_type": "code",
      "execution_count": null,
      "id": "f5a9f6df",
      "metadata": {
        "id": "f5a9f6df",
        "outputId": "bfd6da11-97df-4607-aeed-c2ed286fdf59"
      },
      "outputs": [
        {
          "name": "stdout",
          "output_type": "stream",
          "text": [
            "Type a value to be assigned to spam: 3\n",
            "Greetings!\n"
          ]
        }
      ],
      "source": [
        "spam = int(input(\"Type a value to be assigned to spam: \"))\n",
        "\n",
        "if spam == 1:\n",
        "    print(\"Hello\")\n",
        "elif spam == 2:\n",
        "    print(\"Howdy\")\n",
        "else:\n",
        "    print(\"Greetings!\")"
      ]
    }
  ],
  "metadata": {
    "kernelspec": {
      "display_name": "Python 3 (ipykernel)",
      "language": "python",
      "name": "python3"
    },
    "language_info": {
      "codemirror_mode": {
        "name": "ipython",
        "version": 3
      },
      "file_extension": ".py",
      "mimetype": "text/x-python",
      "name": "python",
      "nbconvert_exporter": "python",
      "pygments_lexer": "ipython3",
      "version": "3.10.9"
    },
    "colab": {
      "provenance": [],
      "include_colab_link": true
    }
  },
  "nbformat": 4,
  "nbformat_minor": 5
}