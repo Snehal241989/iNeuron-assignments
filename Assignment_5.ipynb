{
  "nbformat": 4,
  "nbformat_minor": 0,
  "metadata": {
    "colab": {
      "provenance": [],
      "authorship_tag": "ABX9TyNttuXDZaknZVSdtOtHAcTu",
      "include_colab_link": true
    },
    "kernelspec": {
      "name": "python3",
      "display_name": "Python 3"
    },
    "language_info": {
      "name": "python"
    }
  },
  "cells": [
    {
      "cell_type": "markdown",
      "metadata": {
        "id": "view-in-github",
        "colab_type": "text"
      },
      "source": [
        "<a href=\"https://colab.research.google.com/github/rooftopmunda/iNeuron-assignments/blob/main/Assignment_5.ipynb\" target=\"_parent\"><img src=\"https://colab.research.google.com/assets/colab-badge.svg\" alt=\"Open In Colab\"/></a>"
      ]
    },
    {
      "cell_type": "markdown",
      "source": [
        "#1. What does an empty dictionary's code look like?"
      ],
      "metadata": {
        "id": "Z4RWbPe-1ZLp"
      }
    },
    {
      "cell_type": "markdown",
      "source": [
        "An empty dictionary's code looks like this: {}\n"
      ],
      "metadata": {
        "id": "01-MsSbS1ZOR"
      }
    },
    {
      "cell_type": "code",
      "source": [
        "dict = {}"
      ],
      "metadata": {
        "id": "BgbBssgR2_5Y"
      },
      "execution_count": 22,
      "outputs": []
    },
    {
      "cell_type": "markdown",
      "source": [
        "# 2. What is the value of a dictionary value with the key 'foo' and the value 42?"
      ],
      "metadata": {
        "id": "rmu_2BRv1ZRD"
      }
    },
    {
      "cell_type": "markdown",
      "source": [
        "The value of a dictionary with the key 'foo' and the value 42 is: {'foo': 42}"
      ],
      "metadata": {
        "id": "XmSdqBcn1ZTJ"
      }
    },
    {
      "cell_type": "code",
      "source": [
        "dict = {'foo' : 42}"
      ],
      "metadata": {
        "id": "DUSRhnBt3FX0"
      },
      "execution_count": 23,
      "outputs": []
    },
    {
      "cell_type": "markdown",
      "source": [
        "#3. What is the most significant distinction between a dictionary and a list?"
      ],
      "metadata": {
        "id": "KXggpeSG1ZV5"
      }
    },
    {
      "cell_type": "markdown",
      "source": [
        "The most significant distinction between a dictionary and a list is that:\n",
        "* items in dictionaries are accessed via keys and not via their position.\n",
        "* A dictionary is an associative array (also known as hashes).\n",
        "* Any key of the dictionary is associated (or mapped) to a value.\n",
        "* The values of a dictionary can be any Python data type. So dictionaries are unordered key-value-pairs."
      ],
      "metadata": {
        "id": "_faGUMlu1ZYS"
      }
    },
    {
      "cell_type": "markdown",
      "source": [
        "#4. What happens if you try to access spam['foo'] if spam is {'bar': 100}?"
      ],
      "metadata": {
        "id": "bCYxrAIt1ZbR"
      }
    },
    {
      "cell_type": "markdown",
      "source": [
        "If you try to access spam['foo'] if spam is {'bar': 100}, we will get a KeyError, because there is no key 'foo' in the dictionary."
      ],
      "metadata": {
        "id": "x4w16Pua1ZeJ"
      }
    },
    {
      "cell_type": "code",
      "source": [
        "spam = {'bar': 100}\n",
        "print(spam['foo'])"
      ],
      "metadata": {
        "colab": {
          "base_uri": "https://localhost:8080/",
          "height": 190
        },
        "id": "KcQ4dlLO18nt",
        "outputId": "36d1925a-b149-425d-ed16-42715e5d684a"
      },
      "execution_count": 24,
      "outputs": [
        {
          "output_type": "error",
          "ename": "KeyError",
          "evalue": "ignored",
          "traceback": [
            "\u001b[0;31m---------------------------------------------------------------------------\u001b[0m",
            "\u001b[0;31mKeyError\u001b[0m                                  Traceback (most recent call last)",
            "\u001b[0;32m<ipython-input-24-a6efe2f90084>\u001b[0m in \u001b[0;36m<cell line: 2>\u001b[0;34m()\u001b[0m\n\u001b[1;32m      1\u001b[0m \u001b[0mspam\u001b[0m \u001b[0;34m=\u001b[0m \u001b[0;34m{\u001b[0m\u001b[0;34m'bar'\u001b[0m\u001b[0;34m:\u001b[0m \u001b[0;36m100\u001b[0m\u001b[0;34m}\u001b[0m\u001b[0;34m\u001b[0m\u001b[0;34m\u001b[0m\u001b[0m\n\u001b[0;32m----> 2\u001b[0;31m \u001b[0mprint\u001b[0m\u001b[0;34m(\u001b[0m\u001b[0mspam\u001b[0m\u001b[0;34m[\u001b[0m\u001b[0;34m'foo'\u001b[0m\u001b[0;34m]\u001b[0m\u001b[0;34m)\u001b[0m\u001b[0;34m\u001b[0m\u001b[0;34m\u001b[0m\u001b[0m\n\u001b[0m",
            "\u001b[0;31mKeyError\u001b[0m: 'foo'"
          ]
        }
      ]
    },
    {
      "cell_type": "markdown",
      "source": [
        "#5. If a dictionary is stored in spam, what is the difference between the expressions 'cat' in spam and 'cat' in spam.keys()?"
      ],
      "metadata": {
        "id": "AoovMEl31Zga"
      }
    },
    {
      "cell_type": "markdown",
      "source": [
        "If a dictionary is stored in spam, the expression 'cat' in spam checks if 'cat' is a key in the dictionary, while 'cat' in spam.keys() does the same thing."
      ],
      "metadata": {
        "id": "3u2sH_8l1ZjJ"
      }
    },
    {
      "cell_type": "code",
      "source": [
        "spam = {'cat': 'Zophie'}\n",
        "print('cat' in spam)\n",
        "print('cat' in spam.keys())"
      ],
      "metadata": {
        "colab": {
          "base_uri": "https://localhost:8080/"
        },
        "id": "_JyRkZQD2Hny",
        "outputId": "cee16691-749b-4df6-b5a5-1fffec654549"
      },
      "execution_count": 25,
      "outputs": [
        {
          "output_type": "stream",
          "name": "stdout",
          "text": [
            "True\n",
            "True\n"
          ]
        }
      ]
    },
    {
      "cell_type": "markdown",
      "source": [
        "#6. If a dictionary is stored in spam, what is the difference between the expressions 'cat' in spam and 'cat' in spam.values()?"
      ],
      "metadata": {
        "id": "Xo6ghsTq1ZmB"
      }
    },
    {
      "cell_type": "markdown",
      "source": [
        "If a dictionary is stored in spam, the expression 'cat' in spam checks if 'cat' is a key in the dictionary, while 'cat' in spam.values() checks if 'cat' is a value in the dictionary."
      ],
      "metadata": {
        "id": "YNBmYpL31Zoh"
      }
    },
    {
      "cell_type": "code",
      "source": [
        "spam = {'pet': 'cat'}\n",
        "print('cat' in spam)\n",
        "print('cat' in spam.values())"
      ],
      "metadata": {
        "colab": {
          "base_uri": "https://localhost:8080/"
        },
        "id": "Atq--dgc2P-3",
        "outputId": "266e0206-a52c-4312-a495-5172c8c57ed0"
      },
      "execution_count": 26,
      "outputs": [
        {
          "output_type": "stream",
          "name": "stdout",
          "text": [
            "False\n",
            "True\n"
          ]
        }
      ]
    },
    {
      "cell_type": "markdown",
      "source": [
        "#7. What is a shortcut for the following code?\n",
        "# if 'color' not in spam:\n",
        "#spam['color'] = 'black'\n"
      ],
      "metadata": {
        "id": "TvR--tjh1ZrJ"
      }
    },
    {
      "cell_type": "markdown",
      "source": [
        "Shortcut for the code is using the dict.setdefault() method."
      ],
      "metadata": {
        "id": "YMm_vwjR1ZuK"
      }
    },
    {
      "cell_type": "code",
      "source": [
        "spam.setdefault('color', 'black')"
      ],
      "metadata": {
        "colab": {
          "base_uri": "https://localhost:8080/",
          "height": 37
        },
        "id": "mWtoTvw72d1W",
        "outputId": "d1acb79d-94f4-471e-9528-3914da9b4009"
      },
      "execution_count": 27,
      "outputs": [
        {
          "output_type": "execute_result",
          "data": {
            "text/plain": [
              "'black'"
            ],
            "application/vnd.google.colaboratory.intrinsic+json": {
              "type": "string"
            }
          },
          "metadata": {},
          "execution_count": 27
        }
      ]
    },
    {
      "cell_type": "markdown",
      "source": [
        "#8. How do you \"pretty print\" dictionary values using which module and function?"
      ],
      "metadata": {
        "id": "kfu_1het1Zwp"
      }
    },
    {
      "cell_type": "markdown",
      "source": [
        "Python provides the pprint module (pretty print module) to achieve readability of complex code structures. The pprint module includes the pprint() function, which formats and prints data structures in a visually organized manner."
      ],
      "metadata": {
        "id": "A_fmkjyp6Nrh"
      }
    },
    {
      "cell_type": "code",
      "source": [
        "import pprint\n",
        "\n",
        "data = {\n",
        "    'name': 'Sufal Banerjee ',\n",
        "    'age': 26,\n",
        "    'address': {\n",
        "        'city': 'Nagpur',\n",
        "        'zipcode': '441111'\n",
        "    },\n",
        "    'interests': ['cooking', 'coding', 'hiking']\n",
        "}\n",
        "\n",
        "pprint.pprint(data)"
      ],
      "metadata": {
        "colab": {
          "base_uri": "https://localhost:8080/"
        },
        "id": "xjL1vwaq2nI7",
        "outputId": "2a1b36a4-02f7-4ece-821b-e38d3f59bbe4"
      },
      "execution_count": 28,
      "outputs": [
        {
          "output_type": "stream",
          "name": "stdout",
          "text": [
            "{'address': {'city': 'Nagpur', 'zipcode': '441111'},\n",
            " 'age': 26,\n",
            " 'interests': ['cooking', 'coding', 'hiking'],\n",
            " 'name': 'Sufal Banerjee '}\n"
          ]
        }
      ]
    }
  ]
}