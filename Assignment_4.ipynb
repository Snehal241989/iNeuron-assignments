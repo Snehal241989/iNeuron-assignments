{
  "nbformat": 4,
  "nbformat_minor": 0,
  "metadata": {
    "colab": {
      "provenance": [],
      "authorship_tag": "ABX9TyOJ3Q4+O6rOspjTf3rDL69M",
      "include_colab_link": true
    },
    "kernelspec": {
      "name": "python3",
      "display_name": "Python 3"
    },
    "language_info": {
      "name": "python"
    }
  },
  "cells": [
    {
      "cell_type": "markdown",
      "metadata": {
        "id": "view-in-github",
        "colab_type": "text"
      },
      "source": [
        "<a href=\"https://colab.research.google.com/github/rooftopmunda/iNeuron-assignments/blob/main/Assignment_4.ipynb\" target=\"_parent\"><img src=\"https://colab.research.google.com/assets/colab-badge.svg\" alt=\"Open In Colab\"/></a>"
      ]
    },
    {
      "cell_type": "markdown",
      "source": [
        "#1. What exactly is ''[ ]''?"
      ],
      "metadata": {
        "id": "U_pzlkLTFhUv"
      }
    },
    {
      "cell_type": "markdown",
      "source": [
        "In Python \"[ ]\" is an empty list. An empty list is a list that contains no elements, and it is represented by square brackets with nothing inside them."
      ],
      "metadata": {
        "id": "_V4MsG6wFtq-"
      }
    },
    {
      "cell_type": "markdown",
      "source": [
        "#2. In a list of values stored in a variable called spam, how would you assign the value 'hello' as the third value? (Assume [2, 4, 6, 8, 10] are in spam.)"
      ],
      "metadata": {
        "id": "gx2v8SnXF6mN"
      }
    },
    {
      "cell_type": "markdown",
      "source": [
        "You can assign the value 'hello' as the third value in the list stored in the variable 'spam' as:"
      ],
      "metadata": {
        "id": "AK0NKNcBF7Ft"
      }
    },
    {
      "cell_type": "code",
      "source": [
        "spam = [2, 4, 6, 8, 10]\n",
        "spam[2] = 'hello'\n",
        "\n",
        "print(spam)"
      ],
      "metadata": {
        "colab": {
          "base_uri": "https://localhost:8080/"
        },
        "id": "70RXy9pmK_eW",
        "outputId": "65cd2722-529e-4559-ae9a-de2624e37019"
      },
      "execution_count": 71,
      "outputs": [
        {
          "output_type": "stream",
          "name": "stdout",
          "text": [
            "[2, 4, 'hello', 8, 10]\n"
          ]
        }
      ]
    },
    {
      "cell_type": "markdown",
      "source": [
        "#Let's pretend the spam includes the list ['a', 'b', 'c', 'd'] for the next three queries.\n",
        "#3. What is the value of spam[int(int('3' * 2) / 11)]?\n"
      ],
      "metadata": {
        "id": "ZkVhpGmBF7WV"
      }
    },
    {
      "cell_type": "markdown",
      "source": [
        "The value of spam[int(int('3' * 2) / 11)] is 'd'. This is because '3' * 2 is '33', which when converted to an integer and divided by 11 gives 3. The third index in the list ['a', 'b', 'c', 'd'] is 'd'."
      ],
      "metadata": {
        "id": "CzWjrN_DF7nv"
      }
    },
    {
      "cell_type": "code",
      "source": [
        "spam = ['a', 'b', 'c', 'd']\n",
        "spam[int(int('3' * 2) / 11)]\n"
      ],
      "metadata": {
        "colab": {
          "base_uri": "https://localhost:8080/",
          "height": 37
        },
        "id": "XjIJD7SPLsrf",
        "outputId": "4e70928e-5f71-4776-80c0-d233ee64f1be"
      },
      "execution_count": 72,
      "outputs": [
        {
          "output_type": "execute_result",
          "data": {
            "text/plain": [
              "'d'"
            ],
            "application/vnd.google.colaboratory.intrinsic+json": {
              "type": "string"
            }
          },
          "metadata": {},
          "execution_count": 72
        }
      ]
    },
    {
      "cell_type": "markdown",
      "source": [
        "#4. What is the value of spam[-1]?"
      ],
      "metadata": {
        "id": "Bbw8nCP9G8yx"
      }
    },
    {
      "cell_type": "markdown",
      "source": [
        "The value of spam[-1] is 'd'. In Python, -1 refers to the last index in a list."
      ],
      "metadata": {
        "id": "PMCoBMIoG9Mx"
      }
    },
    {
      "cell_type": "code",
      "source": [
        "print(spam[-1])"
      ],
      "metadata": {
        "colab": {
          "base_uri": "https://localhost:8080/"
        },
        "id": "2L9LZ5lcMOA6",
        "outputId": "548ec7b9-e0e9-4d7c-8211-030f9b513d90"
      },
      "execution_count": 73,
      "outputs": [
        {
          "output_type": "stream",
          "name": "stdout",
          "text": [
            "d\n"
          ]
        }
      ]
    },
    {
      "cell_type": "markdown",
      "source": [
        "# 5. What is the value of spam[:2]?"
      ],
      "metadata": {
        "id": "LobT-u9FG9fS"
      }
    },
    {
      "cell_type": "markdown",
      "source": [
        "The value of spam[:2] is ['a', 'b']. The slice [:2] gets the items from the start of the list up to but not including the index 2."
      ],
      "metadata": {
        "id": "sYczzXuDG9wa"
      }
    },
    {
      "cell_type": "code",
      "source": [
        "print(spam[:2])"
      ],
      "metadata": {
        "colab": {
          "base_uri": "https://localhost:8080/"
        },
        "id": "vekmCMFcMUBG",
        "outputId": "e8aa7c29-d0dc-4fcb-af33-3ef428652cfe"
      },
      "execution_count": 74,
      "outputs": [
        {
          "output_type": "stream",
          "name": "stdout",
          "text": [
            "['a', 'b']\n"
          ]
        }
      ]
    },
    {
      "cell_type": "markdown",
      "source": [
        "#Let's pretend bacon has the list [3.14, 'cat,' 11, 'cat,' True] for the next three questions.\n",
        "#6. What is the value of bacon.index('cat')?"
      ],
      "metadata": {
        "id": "oYXjkeZdG-EK"
      }
    },
    {
      "cell_type": "markdown",
      "source": [
        "The value of bacon.index('cat') is 1. The index() method returns the first index at which a given element appears in the list."
      ],
      "metadata": {
        "id": "M_PqDYudHX-g"
      }
    },
    {
      "cell_type": "code",
      "source": [
        "bacon = [3.14, 'cat', 11, 'cat', True]\n",
        "bacon.index('cat')\n",
        "\n",
        "for i in enumerate(bacon):\n",
        "  print(i)"
      ],
      "metadata": {
        "colab": {
          "base_uri": "https://localhost:8080/"
        },
        "id": "82Qa_ZUyMi9O",
        "outputId": "1f60a5ff-7698-4954-8063-7fbcbb28e61c"
      },
      "execution_count": 75,
      "outputs": [
        {
          "output_type": "stream",
          "name": "stdout",
          "text": [
            "(0, 3.14)\n",
            "(1, 'cat')\n",
            "(2, 11)\n",
            "(3, 'cat')\n",
            "(4, True)\n"
          ]
        }
      ]
    },
    {
      "cell_type": "markdown",
      "source": [
        "#7. How does bacon.append(99) change the look of the list value in bacon?"
      ],
      "metadata": {
        "id": "kJNy3NfWHYVI"
      }
    },
    {
      "cell_type": "markdown",
      "source": [
        "bacon.append(99) adds the integer 99 to the end of the list, making it [3.14, 'cat', 11, 'cat', True, 99]."
      ],
      "metadata": {
        "id": "eq1mHPOPHYlI"
      }
    },
    {
      "cell_type": "code",
      "source": [
        "bacon.append(99)\n",
        "print(bacon)"
      ],
      "metadata": {
        "colab": {
          "base_uri": "https://localhost:8080/"
        },
        "id": "uUnWMX2sODwL",
        "outputId": "c7111c87-7046-4d53-c8fa-096512dff2c4"
      },
      "execution_count": 76,
      "outputs": [
        {
          "output_type": "stream",
          "name": "stdout",
          "text": [
            "[3.14, 'cat', 11, 'cat', True, 99]\n"
          ]
        }
      ]
    },
    {
      "cell_type": "markdown",
      "source": [
        "#8. How does bacon.remove('cat') change the look of the list in bacon?"
      ],
      "metadata": {
        "id": "UlaVk2UNHY25"
      }
    },
    {
      "cell_type": "markdown",
      "source": [
        "bacon.remove('cat') removes the first occurrence of 'cat' from the list, making it [3.14, 11, 'cat', True]."
      ],
      "metadata": {
        "id": "RsF-pMNZHZD4"
      }
    },
    {
      "cell_type": "code",
      "source": [
        "bacon.remove('cat')\n",
        "print(bacon)"
      ],
      "metadata": {
        "colab": {
          "base_uri": "https://localhost:8080/"
        },
        "id": "s8fMSX8eNugv",
        "outputId": "12fb8446-fe6b-40a7-bc33-ad5162f91dd5"
      },
      "execution_count": 77,
      "outputs": [
        {
          "output_type": "stream",
          "name": "stdout",
          "text": [
            "[3.14, 11, 'cat', True, 99]\n"
          ]
        }
      ]
    },
    {
      "cell_type": "markdown",
      "source": [
        "#9. What are the list concatenation and list replication operators?"
      ],
      "metadata": {
        "id": "6GzmW6HtH1HS"
      }
    },
    {
      "cell_type": "markdown",
      "source": [
        "The list concatenation operator is +, and the list replication operator is *. Concatenation combines two lists while replication repeats a list a specified number of times."
      ],
      "metadata": {
        "id": "dfhN2sM_H1FI"
      }
    },
    {
      "cell_type": "code",
      "source": [
        "a = [1,2,3]\n",
        "b = [4,5,6]\n",
        "c = a+b\n",
        "print(c)\n",
        "\n",
        "d = (a + b) * 2 #Concatenated and then replicated\n",
        "print(d)\n"
      ],
      "metadata": {
        "colab": {
          "base_uri": "https://localhost:8080/"
        },
        "id": "mBe8uYqlOKTm",
        "outputId": "8a75bf39-3498-473d-b02d-cff911a3e982"
      },
      "execution_count": 78,
      "outputs": [
        {
          "output_type": "stream",
          "name": "stdout",
          "text": [
            "[1, 2, 3, 4, 5, 6]\n",
            "[1, 2, 3, 4, 5, 6, 1, 2, 3, 4, 5, 6]\n"
          ]
        }
      ]
    },
    {
      "cell_type": "markdown",
      "source": [
        "#10. What is difference between the list methods append() and insert()?"
      ],
      "metadata": {
        "id": "EP54b1ERH1DA"
      }
    },
    {
      "cell_type": "markdown",
      "source": [
        "The append() method adds an element to the end of a list, while the insert() method can add an element at any position in the list."
      ],
      "metadata": {
        "id": "5kzSzOR7H1Ao"
      }
    },
    {
      "cell_type": "code",
      "source": [
        "list1 = [5,4,8,5]\n",
        "list1.append(999)\n",
        "print(list1)\n",
        "\n",
        "list1.insert(0,888)\n",
        "print(list1)"
      ],
      "metadata": {
        "colab": {
          "base_uri": "https://localhost:8080/"
        },
        "id": "odGRt56wOy9a",
        "outputId": "8296a60a-a183-429c-ed1a-6e8d396bb0c2"
      },
      "execution_count": 79,
      "outputs": [
        {
          "output_type": "stream",
          "name": "stdout",
          "text": [
            "[5, 4, 8, 5, 999]\n",
            "[888, 5, 4, 8, 5, 999]\n"
          ]
        }
      ]
    },
    {
      "cell_type": "markdown",
      "source": [
        "#11. What are the two methods for removing items from a list?"
      ],
      "metadata": {
        "id": "dY3jrL89H08Q"
      }
    },
    {
      "cell_type": "markdown",
      "source": [
        "The two methods for removing items from a list are remove(), which removes the first occurrence of a specified value, and pop(), which removes the item at a specified position."
      ],
      "metadata": {
        "id": "G2ef6E6VH05o"
      }
    },
    {
      "cell_type": "code",
      "source": [
        "list1 = [5,4,8,5]\n",
        "list1.remove(5)\n",
        "print(list1)\n",
        "\n",
        "list1.pop(-1)\n",
        "print(list1)"
      ],
      "metadata": {
        "colab": {
          "base_uri": "https://localhost:8080/"
        },
        "outputId": "e5ad2f12-8137-4ec9-c647-aa168b019305",
        "id": "kDvgoczIPplv"
      },
      "execution_count": 80,
      "outputs": [
        {
          "output_type": "stream",
          "name": "stdout",
          "text": [
            "[4, 8, 5]\n",
            "[4, 8]\n"
          ]
        }
      ]
    },
    {
      "cell_type": "markdown",
      "source": [
        "#12. Describe how list values and string values are identical."
      ],
      "metadata": {
        "id": "NlTcDQY3H03Q"
      }
    },
    {
      "cell_type": "markdown",
      "source": [
        "List values and string values are identical in the following way:\n",
        "* they can both be indexed\n",
        "* sliced\n",
        "* used in for loops\n",
        "* be concatenated\n",
        "* be replicated\n",
        "* and be used with the in and not in operators."
      ],
      "metadata": {
        "id": "tCe7QieqH0vw"
      }
    },
    {
      "cell_type": "markdown",
      "source": [
        "#13. What's the difference between tuples and lists?"
      ],
      "metadata": {
        "id": "HPYDy6xQH0Yf"
      }
    },
    {
      "cell_type": "markdown",
      "source": [
        "The difference between tuples and lists is that tuples are immutable (they cannot be changed), while lists are mutable (they can be changed)."
      ],
      "metadata": {
        "id": "lDgI0zLWH0PA"
      }
    },
    {
      "cell_type": "markdown",
      "source": [
        "#14. How do you type a tuple value that only contains the integer 42?"
      ],
      "metadata": {
        "id": "TnDq0piBHz1n"
      }
    },
    {
      "cell_type": "markdown",
      "source": [
        "A tuple value that only contains the integer 42 can be typed as (42,). The trailing comma is necessary to distinguish it as a tuple."
      ],
      "metadata": {
        "id": "w8phvFqeIs2_"
      }
    },
    {
      "cell_type": "code",
      "source": [
        "tuple_ = (42,)"
      ],
      "metadata": {
        "id": "2SlGISWIQmGE"
      },
      "execution_count": 81,
      "outputs": []
    },
    {
      "cell_type": "markdown",
      "source": [
        "#15. How do you get a list value's tuple form? How do you get a tuple value's list form?"
      ],
      "metadata": {
        "id": "A5-YPOOyIsy-"
      }
    },
    {
      "cell_type": "markdown",
      "source": [
        "You can get a list value's tuple form using the tuple() function, and a tuple value's list form using the list() function."
      ],
      "metadata": {
        "id": "Og1R6lUNIsuf"
      }
    },
    {
      "cell_type": "code",
      "source": [
        "a = list()\n",
        "b = tuple()"
      ],
      "metadata": {
        "id": "WGNfRJOUQv1x"
      },
      "execution_count": 82,
      "outputs": []
    },
    {
      "cell_type": "markdown",
      "source": [
        "#16. Variables that \"contain\" list values are not necessarily lists themselves. Instead, what do they contain?"
      ],
      "metadata": {
        "id": "KBedcr9BIspG"
      }
    },
    {
      "cell_type": "markdown",
      "source": [
        "Variables that contain list values actually contain references to list values. When you assign a list to a variable, the variable points to the memory location where the list is stored, rather than holding the actual list data."
      ],
      "metadata": {
        "id": "y6RnytVFIskG"
      }
    },
    {
      "cell_type": "code",
      "source": [
        "x = [1, 2, 3]\n",
        "y = x\n",
        "\n",
        "x.append(999)\n",
        "print(y) #Variable y is also changed\n"
      ],
      "metadata": {
        "colab": {
          "base_uri": "https://localhost:8080/"
        },
        "id": "MGYhtU99UGoy",
        "outputId": "14a43f14-b7ba-496e-9109-ae618d3b8cf5"
      },
      "execution_count": 83,
      "outputs": [
        {
          "output_type": "stream",
          "name": "stdout",
          "text": [
            "[1, 2, 3, 999]\n"
          ]
        }
      ]
    },
    {
      "cell_type": "markdown",
      "source": [
        "#17. How do you distinguish between copy.copy() and copy.deepcopy()?"
      ],
      "metadata": {
        "id": "TJ5cKSCQJZGv"
      }
    },
    {
      "cell_type": "markdown",
      "source": [
        "copy.copy() creates a shallow copy of any iterable object. It means, that the memory location of the original object and the copied object are the same, so anyb changes made in the copied object, also reflects in the original object."
      ],
      "metadata": {
        "id": "ah3hBx3KJxKj"
      }
    },
    {
      "cell_type": "code",
      "source": [
        "#Shallow Copy\n",
        "import copy\n",
        "original_list = [[1,2,3],[4,5,6],7]\n",
        "copied_list = copy.copy(original_list) #Shallow Copy"
      ],
      "metadata": {
        "id": "9rjBn6rTgbdI"
      },
      "execution_count": 100,
      "outputs": []
    },
    {
      "cell_type": "code",
      "source": [
        "copied_list[0][1] = 'abc'"
      ],
      "metadata": {
        "id": "yckCpWWHp9Qe"
      },
      "execution_count": 101,
      "outputs": []
    },
    {
      "cell_type": "code",
      "source": [
        "original_list #Since the memory location is same, the changes made in the copied list reflects in the original list as well."
      ],
      "metadata": {
        "colab": {
          "base_uri": "https://localhost:8080/"
        },
        "id": "Wj0V3Cvip9LO",
        "outputId": "daa321db-c8d5-484c-bb0c-667712844977"
      },
      "execution_count": 103,
      "outputs": [
        {
          "output_type": "execute_result",
          "data": {
            "text/plain": [
              "[[1, 'abc', 3], [4, 5, 6], 7]"
            ]
          },
          "metadata": {},
          "execution_count": 103
        }
      ]
    },
    {
      "cell_type": "markdown",
      "source": [
        "In deepcopy, an entire copy of the list is created but with a new memory location. It means, any changes made in the copied object, won't reflect in the original object."
      ],
      "metadata": {
        "id": "TCivwq0kqnBV"
      }
    },
    {
      "cell_type": "code",
      "source": [
        "# Deep Copy\n",
        "import copy\n",
        "og_d_list = [[88,55,66,4],[22,55,77,45], 999]\n",
        "copied_d_list = copy.deepcopy(og_d_list)"
      ],
      "metadata": {
        "id": "zaMPgzCwigBY"
      },
      "execution_count": 104,
      "outputs": []
    },
    {
      "cell_type": "code",
      "source": [
        "copied_d_list[0][1] = 'India'"
      ],
      "metadata": {
        "id": "sqZCucvorAY3"
      },
      "execution_count": 105,
      "outputs": []
    },
    {
      "cell_type": "code",
      "source": [
        "og_d_list #Since the memory location of the new object(copied_d_list) is not the same or linked with the original object, any changes made will not reflect in the original object."
      ],
      "metadata": {
        "colab": {
          "base_uri": "https://localhost:8080/"
        },
        "id": "TpVBySA5rIU0",
        "outputId": "78e9e3b9-62cb-4b6e-d5f6-f0827d530801"
      },
      "execution_count": 107,
      "outputs": [
        {
          "output_type": "execute_result",
          "data": {
            "text/plain": [
              "[[88, 55, 66, 4], [22, 55, 77, 45], 999]"
            ]
          },
          "metadata": {},
          "execution_count": 107
        }
      ]
    }
  ]
}