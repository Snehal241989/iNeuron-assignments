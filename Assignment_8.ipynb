{
  "nbformat": 4,
  "nbformat_minor": 0,
  "metadata": {
    "colab": {
      "provenance": [],
      "include_colab_link": true
    },
    "kernelspec": {
      "name": "python3",
      "display_name": "Python 3"
    },
    "language_info": {
      "name": "python"
    }
  },
  "cells": [
    {
      "cell_type": "markdown",
      "metadata": {
        "id": "view-in-github",
        "colab_type": "text"
      },
      "source": [
        "<a href=\"https://colab.research.google.com/github/Snehal241989/iNeuron-assignments/blob/main/Assignment_8.ipynb\" target=\"_parent\"><img src=\"https://colab.research.google.com/assets/colab-badge.svg\" alt=\"Open In Colab\"/></a>"
      ]
    },
    {
      "cell_type": "markdown",
      "source": [
        "#1. In Python, what is the difference between a built-in function and a user-defined function? Provide an example of each."
      ],
      "metadata": {
        "id": "3DtrEVFQOqD5"
      }
    },
    {
      "cell_type": "markdown",
      "source": [
        "Built-in functions in Python are predefined functions that are always available for use. These include functions like print(), len(), type(), etc.\n",
        "* For example, print(\"Hello, World!\") will print the string \"Hello, World!\" to the console.\n",
        "\n",
        "* User-defined functions, on the other hand, are functions that are defined by the users themselves using the def keyword."
      ],
      "metadata": {
        "id": "56yAJ4-XOqGR"
      }
    },
    {
      "cell_type": "code",
      "source": [
        "   def greet(name):\n",
        "       print(f\"Hello, {name}!\")\n",
        "   greet(\"Sufal\")"
      ],
      "metadata": {
        "colab": {
          "base_uri": "https://localhost:8080/"
        },
        "id": "dbCTHML4PEl4",
        "outputId": "e17ad82a-7a19-48c7-a625-13cbb76f72df"
      },
      "execution_count": null,
      "outputs": [
        {
          "output_type": "stream",
          "name": "stdout",
          "text": [
            "Hello, Sufal!\n"
          ]
        }
      ]
    },
    {
      "cell_type": "markdown",
      "source": [
        "#2. How can you pass arguments to a function in Python? Explain the difference between positional arguments and keyword arguments."
      ],
      "metadata": {
        "id": "ack8XDZCOqI5"
      }
    },
    {
      "cell_type": "markdown",
      "source": [
        "Arguments can be passed to a function in Python in the following ways:\n",
        "\n",
        "* Positional arguments: These are arguments that need to be passed in the same order as they are defined in the function."
      ],
      "metadata": {
        "id": "Y9o-LmdjOqL6"
      }
    },
    {
      "cell_type": "code",
      "source": [
        "     def greet(first_name, last_name):\n",
        "         print(f\"Hello, {first_name} {last_name}!\")\n",
        "     greet(\"Sufal\", \"Banerjee\")"
      ],
      "metadata": {
        "colab": {
          "base_uri": "https://localhost:8080/"
        },
        "id": "w3NSr7NzPeg1",
        "outputId": "931c94a3-a993-492f-87ed-5bda2b0de990"
      },
      "execution_count": null,
      "outputs": [
        {
          "output_type": "stream",
          "name": "stdout",
          "text": [
            "Hello, Sufal Banerjee!\n"
          ]
        }
      ]
    },
    {
      "cell_type": "markdown",
      "source": [
        "* Keyword arguments: These are arguments that are identified by the parameter name. This allows you to skip arguments or place them out of order."
      ],
      "metadata": {
        "id": "Oh0RKRYLOqOJ"
      }
    },
    {
      "cell_type": "code",
      "source": [
        "     def greet(first_name, last_name):\n",
        "         print(f\"Hello, {first_name} {last_name}!\")\n",
        "     greet(last_name=\"Banerjee\", first_name=\"Sufal\")"
      ],
      "metadata": {
        "colab": {
          "base_uri": "https://localhost:8080/"
        },
        "id": "nch-VOABPj3Y",
        "outputId": "cd48a113-8edd-47f4-a79f-02e0c476aa96"
      },
      "execution_count": null,
      "outputs": [
        {
          "output_type": "stream",
          "name": "stdout",
          "text": [
            "Hello, Sufal Banerjee!\n"
          ]
        }
      ]
    },
    {
      "cell_type": "markdown",
      "source": [
        "#3. What is the purpose of the return statement in a function? Can a function have multiple return statements? Explain with an example."
      ],
      "metadata": {
        "id": "S0nxV853OqQh"
      }
    },
    {
      "cell_type": "markdown",
      "source": [
        "The return statement is used to exit a function and go back to the place where it was called. A function can have multiple return statements. If the Python interpreter encounters a return statement, it will exit the function immediately and ignore any code that comes after it."
      ],
      "metadata": {
        "id": "UUJ_LE9iOqS5"
      }
    },
    {
      "cell_type": "code",
      "source": [
        "   def max(a, b):\n",
        "       if a > b:\n",
        "           return a\n",
        "       else:\n",
        "           return b\n",
        "   print(max(3, 4))"
      ],
      "metadata": {
        "colab": {
          "base_uri": "https://localhost:8080/"
        },
        "id": "leqdphwvdJOW",
        "outputId": "7e723878-fbc6-4cc6-f5e9-f4c23a666be3"
      },
      "execution_count": null,
      "outputs": [
        {
          "output_type": "stream",
          "name": "stdout",
          "text": [
            "4\n"
          ]
        }
      ]
    },
    {
      "cell_type": "markdown",
      "source": [
        "#4. What are lambda functions in Python? How are they different from regular functions? Provide an example where a lambda function can be useful."
      ],
      "metadata": {
        "id": "q-JLXDeGOqVJ"
      }
    },
    {
      "cell_type": "markdown",
      "source": [
        "Lambda functions in Python are small anonymous functions that are defined using the lambda keyword. They are different from regular functions in that they can have any number of arguments but only one expression. For example, a lambda function that adds two numbers could look like:\n",
        "* add = lambda a, b: a + b."
      ],
      "metadata": {
        "id": "tEUbGB0TdeLJ"
      }
    },
    {
      "cell_type": "markdown",
      "source": [
        "#5. How does the concept of \"scope\" apply to functions in Python? Explain the difference between local scope and global scope."
      ],
      "metadata": {
        "id": "gjBXLLrUdiOj"
      }
    },
    {
      "cell_type": "markdown",
      "source": [
        "The concept of \"scope\" in Python refers to the region of the code where a variable is accessible. Variables defined inside a function have a local scope and are not accessible outside of that function. Variables defined outside of all functions have a global scope and are accessible throughout the entire code."
      ],
      "metadata": {
        "id": "DmYUGbEPdnB-"
      }
    },
    {
      "cell_type": "code",
      "source": [
        "   x = 100\n",
        "\n",
        "   def func():\n",
        "       y = 69\n",
        "       print(x, y)\n",
        "\n",
        "   func()\n",
        "   print(x)\n",
        "   print(y)"
      ],
      "metadata": {
        "colab": {
          "base_uri": "https://localhost:8080/",
          "height": 244
        },
        "id": "aK0Hvlq1drt5",
        "outputId": "c032a440-2926-4145-da57-e35db7a33a21"
      },
      "execution_count": null,
      "outputs": [
        {
          "output_type": "stream",
          "name": "stdout",
          "text": [
            "100 69\n",
            "100\n"
          ]
        },
        {
          "output_type": "error",
          "ename": "NameError",
          "evalue": "ignored",
          "traceback": [
            "\u001b[0;31m---------------------------------------------------------------------------\u001b[0m",
            "\u001b[0;31mNameError\u001b[0m                                 Traceback (most recent call last)",
            "\u001b[0;32m<ipython-input-15-742faefa7e4a>\u001b[0m in \u001b[0;36m<cell line: 9>\u001b[0;34m()\u001b[0m\n\u001b[1;32m      7\u001b[0m \u001b[0mfunc\u001b[0m\u001b[0;34m(\u001b[0m\u001b[0;34m)\u001b[0m\u001b[0;34m\u001b[0m\u001b[0;34m\u001b[0m\u001b[0m\n\u001b[1;32m      8\u001b[0m \u001b[0mprint\u001b[0m\u001b[0;34m(\u001b[0m\u001b[0mx\u001b[0m\u001b[0;34m)\u001b[0m\u001b[0;34m\u001b[0m\u001b[0;34m\u001b[0m\u001b[0m\n\u001b[0;32m----> 9\u001b[0;31m \u001b[0mprint\u001b[0m\u001b[0;34m(\u001b[0m\u001b[0my\u001b[0m\u001b[0;34m)\u001b[0m\u001b[0;34m\u001b[0m\u001b[0;34m\u001b[0m\u001b[0m\n\u001b[0m",
            "\u001b[0;31mNameError\u001b[0m: name 'y' is not defined"
          ]
        }
      ]
    },
    {
      "cell_type": "markdown",
      "source": [
        "#6. How can you use the \"return\" statement in a Python function to return multiple values?"
      ],
      "metadata": {
        "id": "ccQqkxYXdm_2"
      }
    },
    {
      "cell_type": "markdown",
      "source": [
        "You can use the return statement in a Python function to return multiple values by separating them with commas."
      ],
      "metadata": {
        "id": "7l1VeYd7eECG"
      }
    },
    {
      "cell_type": "code",
      "source": [
        "   def func():\n",
        "       return 1, 2, 3\n",
        "\n",
        "   a, b, c = func()\n",
        "   print(a, b, c)"
      ],
      "metadata": {
        "colab": {
          "base_uri": "https://localhost:8080/"
        },
        "id": "UTS5N_J9eG4n",
        "outputId": "9e6f3c15-497a-4af3-f856-052c6607774e"
      },
      "execution_count": null,
      "outputs": [
        {
          "output_type": "stream",
          "name": "stdout",
          "text": [
            "1 2 3\n"
          ]
        }
      ]
    },
    {
      "cell_type": "markdown",
      "source": [
        "#7. What is the difference between the \"pass by value\" and \"pass by reference\" concepts when it comes to function arguments in Python?"
      ],
      "metadata": {
        "id": "45r8UZ0Sdm9e"
      }
    },
    {
      "cell_type": "markdown",
      "source": [
        "Python's function arguments are passed by object reference. This means that if we pass a mutable object to a function and modify it inside the function, the changes will be reflected outside of the function as well. If we pass an immutable object to a function and try to modify it inside the function, a new object will be created and the original object will remain unchanged."
      ],
      "metadata": {
        "id": "bRpkKtdsdm7e"
      }
    },
    {
      "cell_type": "code",
      "source": [
        "   def func(lst):\n",
        "       lst.append(4)\n",
        "\n",
        "   a = [1, 2, 3]\n",
        "   func(a)\n",
        "   print(a)\n",
        "\n",
        "   def func(x):\n",
        "       x = 5\n",
        "\n",
        "   b = 10\n",
        "   func(b)\n",
        "   print(b)\n"
      ],
      "metadata": {
        "colab": {
          "base_uri": "https://localhost:8080/"
        },
        "id": "8Yf7odkFei_3",
        "outputId": "dd80e6d1-6cd9-4201-9b8a-436a2df3212d"
      },
      "execution_count": null,
      "outputs": [
        {
          "output_type": "stream",
          "name": "stdout",
          "text": [
            "[1, 2, 3, 4]\n",
            "10\n"
          ]
        }
      ]
    },
    {
      "cell_type": "markdown",
      "source": [
        "# 8. Create a function that can intake integer or decimal value and do following operations:\n",
        "* a. Logarithmic function (log x)\n",
        "* b. Exponential function (exp(x))\n",
        "* c. Power function with base 2 (2\n",
        "x\n",
        ")\n",
        "\n",
        "* d. Square root"
      ],
      "metadata": {
        "id": "JKd0egOGdm4-"
      }
    },
    {
      "cell_type": "code",
      "source": [
        "   import math\n",
        "\n",
        "   def func(x):\n",
        "       return math.log(x), math.exp(x), 2 ** x, math.sqrt(x)\n",
        "\n",
        "   print(func(2))"
      ],
      "metadata": {
        "colab": {
          "base_uri": "https://localhost:8080/"
        },
        "id": "gt9ZsmuifDxx",
        "outputId": "f5bdea74-c68b-40b4-8dba-e5ddf69374bb"
      },
      "execution_count": null,
      "outputs": [
        {
          "output_type": "stream",
          "name": "stdout",
          "text": [
            "(0.6931471805599453, 7.38905609893065, 4, 1.4142135623730951)\n"
          ]
        }
      ]
    },
    {
      "cell_type": "markdown",
      "source": [
        "#9. Create a function that takes a full name as an argument and returns first name and last name."
      ],
      "metadata": {
        "id": "Wgz0rtEZdm1G"
      }
    },
    {
      "cell_type": "code",
      "source": [
        "   def split_name(full_name):\n",
        "       first_name, last_name = full_name.split()\n",
        "       return first_name, last_name\n",
        "\n",
        "   print(split_name(\"Sufal Banerjee\"))"
      ],
      "metadata": {
        "colab": {
          "base_uri": "https://localhost:8080/"
        },
        "id": "EWBOYOYtdl7d",
        "outputId": "49b2e0de-5021-4b89-f699-7b01c40ea222"
      },
      "execution_count": null,
      "outputs": [
        {
          "output_type": "stream",
          "name": "stdout",
          "text": [
            "('Sufal', 'Banerjee')\n"
          ]
        }
      ]
    }
  ]
}