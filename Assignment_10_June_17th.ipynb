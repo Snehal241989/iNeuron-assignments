{
  "nbformat": 4,
  "nbformat_minor": 0,
  "metadata": {
    "colab": {
      "provenance": [],
      "include_colab_link": true
    },
    "kernelspec": {
      "name": "python3",
      "display_name": "Python 3"
    },
    "language_info": {
      "name": "python"
    }
  },
  "cells": [
    {
      "cell_type": "markdown",
      "metadata": {
        "id": "view-in-github",
        "colab_type": "text"
      },
      "source": [
        "<a href=\"https://colab.research.google.com/github/Snehal241989/iNeuron-assignments/blob/main/Assignment_10_June_17th.ipynb\" target=\"_parent\"><img src=\"https://colab.research.google.com/assets/colab-badge.svg\" alt=\"Open In Colab\"/></a>"
      ]
    },
    {
      "cell_type": "markdown",
      "source": [
        "#1. What is the role of try and exception block?"
      ],
      "metadata": {
        "id": "7ny-rQZCwmXb"
      }
    },
    {
      "cell_type": "markdown",
      "source": [
        "The role of a try and except block in python is to handle exceptions. The code inside the try block is executed, and if an exception occurs, it is caught and handled by the except block. This allows the program to gracefully handle errors and prevent the program from crashing."
      ],
      "metadata": {
        "id": "af3rzK70wmZy"
      }
    },
    {
      "cell_type": "markdown",
      "source": [
        "#2. What is the syntax for a basic try-except block?"
      ],
      "metadata": {
        "id": "Dlc8sipbwmb6"
      }
    },
    {
      "cell_type": "code",
      "source": [
        "try:\n",
        "    # Code that may raise an exception\n",
        "except ExceptionType:\n",
        "    # Code to handle that exception"
      ],
      "metadata": {
        "id": "lvImi0S3wzzR"
      },
      "execution_count": null,
      "outputs": []
    },
    {
      "cell_type": "markdown",
      "source": [
        "# 3. What happens if an exception occurs inside a try block and there is no matching except block?"
      ],
      "metadata": {
        "id": "St2jspnHwmea"
      }
    },
    {
      "cell_type": "markdown",
      "source": [
        "If an exception occurs inside a try block and there is no matching except block, the exception will propagate up the call stack until it is caught by an outer try-except block or until it reaches the top-level of the program.\n",
        "\n",
        " If the exception is not caught, the program will terminate and display an error message."
      ],
      "metadata": {
        "id": "VmeQsYQuwmg0"
      }
    },
    {
      "cell_type": "markdown",
      "source": [
        "#4. What is the difference between using a bare except block and specifying a specific exception type?"
      ],
      "metadata": {
        "id": "kZEjHUW8wmja"
      }
    },
    {
      "cell_type": "markdown",
      "source": [
        "The difference between using a bare except block and specifying a specific exception type is that a bare except block will catch and handle any type of exception, whereas specifying a specific exception type will only catch and handle exceptions of that particular type. It is generally recommended to specify the specific exception types you want to handle, as catching all exceptions can make it harder to debug and maintain the code."
      ],
      "metadata": {
        "id": "SiX8nYlbwmmC"
      }
    },
    {
      "cell_type": "markdown",
      "source": [
        "# 5. Can you have nested try-except blocks in Python? If yes, then give an example."
      ],
      "metadata": {
        "id": "oCzEf2zPwmoi"
      }
    },
    {
      "cell_type": "markdown",
      "source": [
        "Yes, nested try-except blocks are allowed in Python."
      ],
      "metadata": {
        "id": "tvzK_dZywmrC"
      }
    },
    {
      "cell_type": "code",
      "source": [
        "try:\n",
        "    # Outer try block\n",
        "    try:\n",
        "        # Inner try block\n",
        "\n",
        "    except ExceptionType2:\n",
        "        # Handle exception of type ExceptionType2\n",
        "\n",
        "except ExceptionType1:\n",
        "    # Handle exception of type ExceptionType1"
      ],
      "metadata": {
        "id": "sYr_WNKJxWXE"
      },
      "execution_count": null,
      "outputs": []
    },
    {
      "cell_type": "markdown",
      "source": [
        "# 6. Can we use multiple exception blocks, if yes then give an example."
      ],
      "metadata": {
        "id": "TTxqs4p3wmtk"
      }
    },
    {
      "cell_type": "markdown",
      "source": [
        "Yes, you can have multiple except blocks in a try-except block. Each except block can handle a different type of exception."
      ],
      "metadata": {
        "id": "zsUpdHETwmvy"
      }
    },
    {
      "cell_type": "code",
      "source": [
        "try:\n",
        "    # Code that is likely to raise an exception\n",
        "except ExceptionType1:\n",
        "    # Handle exception of type ExceptionType1\n",
        "except ExceptionType2:\n",
        "    # Handle exception of type ExceptionType2\n"
      ],
      "metadata": {
        "id": "1uVbPE78xiYL"
      },
      "execution_count": null,
      "outputs": []
    },
    {
      "cell_type": "markdown",
      "source": [
        "#7. Write the reason due to which following errors are raised:\n",
        "* a. EOFError\n",
        "* b. FloatingPointError\n",
        "* c. IndexError\n",
        "* d. MemoryError\n",
        "* e. OverflowError\n",
        "* f. TabError\n",
        "* g. ValueError"
      ],
      "metadata": {
        "id": "qlHrKfF5wmya"
      }
    },
    {
      "cell_type": "markdown",
      "source": [
        "* EOFError: This error is raised when the input() function reaches the end of the file or encounters an unexpected end of input.\n",
        "*  FloatingPointError: This error is raised when a floating-point operation fails to produce a valid result, such as division by zero or an overflow/underflow condition.\n",
        "*  IndexError: This error is raised when trying to access an index that is out of range in a sequence (e.g., list, tuple, string).\n",
        "*  MemoryError: This error is raised when the program runs out of memory to allocate for new objects.\n",
        "*  OverflowError: This error is raised when a calculation exceeds the maximum limit of a numeric type.\n",
        "*  TabError: This error is raised when there is an incorrect indentation or mixing of tabs and spaces in the code.\n",
        "*  ValueError: This error is raised when a function receives an argument of the correct type but an invalid value"
      ],
      "metadata": {
        "id": "BVTYeWB2wm1a"
      }
    },
    {
      "cell_type": "markdown",
      "source": [
        "# 8. Write code for the following given scenario and add try-exception block to it.\n",
        "* a. Program to divide two numbers\n",
        "* b. Program to convert a string to an integer\n",
        "* c. Program to access an element in a list\n",
        "* d. Program to handle a specific exception\n",
        "* e. Program to handle any exception"
      ],
      "metadata": {
        "id": "aaGIf_Qwwm37"
      }
    },
    {
      "cell_type": "code",
      "source": [
        "# Program to divide two numbers\n",
        "try:\n",
        "    num1 = int(input(\"Enter the first number: \"))\n",
        "    num2 = int(input(\"Enter the second number: \"))\n",
        "    result = num1 / num2\n",
        "    print(\"Result:\", result)\n",
        "except ZeroDivisionError:\n",
        "    print(\"Error: Cannot divide by zero.\")\n"
      ],
      "metadata": {
        "id": "jvawp9peykX2"
      },
      "execution_count": null,
      "outputs": []
    },
    {
      "cell_type": "code",
      "source": [
        "# Program to convert a string to an integer\n",
        "try:\n",
        "    num_str = input(\"Enter a number: \")\n",
        "    num = int(num_str)\n",
        "    print(\"Number:\", num)\n",
        "except ValueError:\n",
        "    print(\"Error: Invalid input. Please enter a valid integer.\")"
      ],
      "metadata": {
        "id": "-NupZzH3ykVe"
      },
      "execution_count": null,
      "outputs": []
    },
    {
      "cell_type": "code",
      "source": [
        "# Program to access an element in a list\n",
        "try:\n",
        "    my_list = [1, 2, 3]\n",
        "    index = int(input(\"Enter an index: \"))\n",
        "    element = my_list[index]\n",
        "    print(\"Element:\", element)\n",
        "except IndexError:\n",
        "    print(\"Error: Index out of range.\")\n"
      ],
      "metadata": {
        "id": "nvssE8ByykTP"
      },
      "execution_count": null,
      "outputs": []
    },
    {
      "cell_type": "code",
      "source": [
        "# Program to handle a specific exception\n",
        "try:\n",
        "    # Code that may raise a specific exception\n",
        "\n",
        "except SpecificExceptionType:\n",
        "    # Handle the specific exception"
      ],
      "metadata": {
        "id": "bZMzNy62ykQe"
      },
      "execution_count": null,
      "outputs": []
    },
    {
      "cell_type": "code",
      "source": [
        "# Program to handle any exception\n",
        "try:\n",
        "    # Code that may raise an exception\n",
        "\n",
        "except Exception:\n",
        "    # Handle any exception"
      ],
      "metadata": {
        "id": "adi9M5TzykL2"
      },
      "execution_count": null,
      "outputs": []
    }
  ]
}