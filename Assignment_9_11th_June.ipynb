{
  "nbformat": 4,
  "nbformat_minor": 0,
  "metadata": {
    "colab": {
      "provenance": [],
      "authorship_tag": "ABX9TyNa2KXegcz+rEcUqnRSOeaF",
      "include_colab_link": true
    },
    "kernelspec": {
      "name": "python3",
      "display_name": "Python 3"
    },
    "language_info": {
      "name": "python"
    }
  },
  "cells": [
    {
      "cell_type": "markdown",
      "metadata": {
        "id": "view-in-github",
        "colab_type": "text"
      },
      "source": [
        "<a href=\"https://colab.research.google.com/github/rooftopmunda/iNeuron-assignments/blob/main/Assignment_9_11th_June.ipynb\" target=\"_parent\"><img src=\"https://colab.research.google.com/assets/colab-badge.svg\" alt=\"Open In Colab\"/></a>"
      ]
    },
    {
      "cell_type": "markdown",
      "source": [
        "#1. What is a lambda function in Python, and how does it differ from a regular function?"
      ],
      "metadata": {
        "id": "eCaqtobynYjc"
      }
    },
    {
      "cell_type": "markdown",
      "source": [
        "A lambda function in Python is a small anonymous function that is defined using the lambda keyword, unlike regular functions which are defined using the def keyword. Lambda functions can have any number of arguments but can only have one expression. For example, a lambda function that adds two numbers could look like this: add = lambda a, b: a + b."
      ],
      "metadata": {
        "id": "qeznzu4vnYmO"
      }
    },
    {
      "cell_type": "markdown",
      "source": [
        "#2. Can a lambda function in Python have multiple arguments? If yes, how can you define and use them?"
      ],
      "metadata": {
        "id": "uxmOl_zpnYol"
      }
    },
    {
      "cell_type": "markdown",
      "source": [
        "Yes, a lambda function in Python can have multiple arguments. You can define a lambda function with multiple arguments like this: multiply = lambda a, b, c: a * b * c."
      ],
      "metadata": {
        "id": "d-otJc4knYq9"
      }
    },
    {
      "cell_type": "markdown",
      "source": [
        "#3. How are lambda functions typically used in Python? Provide an example use case."
      ],
      "metadata": {
        "id": "xPN5bMmqnYtl"
      }
    },
    {
      "cell_type": "markdown",
      "source": [
        "They are commonly used for short, throwaway functions where creating a full function using def would be unnecessary."
      ],
      "metadata": {
        "id": "t1L3yUbLoZPA"
      }
    },
    {
      "cell_type": "code",
      "source": [
        "   multiply = lambda a, b, c: a * b * c\n",
        "   print(multiply(2, 3, 4))"
      ],
      "metadata": {
        "colab": {
          "base_uri": "https://localhost:8080/"
        },
        "id": "dDpMN6Zgny4c",
        "outputId": "23c39409-2eb4-4ee5-b8bd-805eaa30e2bb"
      },
      "execution_count": 2,
      "outputs": [
        {
          "output_type": "stream",
          "name": "stdout",
          "text": [
            "24\n"
          ]
        }
      ]
    },
    {
      "cell_type": "markdown",
      "source": [
        "#4. What are the advantages and limitations of lambda functions compared to regular functions in Python?"
      ],
      "metadata": {
        "id": "_timzxcwnYv9"
      }
    },
    {
      "cell_type": "markdown",
      "source": [],
      "metadata": {
        "id": "HJmjXSAUnYye"
      }
    },
    {
      "cell_type": "markdown",
      "source": [],
      "metadata": {
        "id": "o53KpwwbnY09"
      }
    },
    {
      "cell_type": "markdown",
      "source": [],
      "metadata": {
        "id": "KUbkkKvinY32"
      }
    },
    {
      "cell_type": "markdown",
      "source": [],
      "metadata": {
        "id": "3i7SCSiAnY59"
      }
    },
    {
      "cell_type": "markdown",
      "source": [],
      "metadata": {
        "id": "Oua865DQnY8t"
      }
    },
    {
      "cell_type": "markdown",
      "source": [],
      "metadata": {
        "id": "ILu_BYAEnY_V"
      }
    },
    {
      "cell_type": "markdown",
      "source": [],
      "metadata": {
        "id": "YWZUAxJynZB9"
      }
    },
    {
      "cell_type": "markdown",
      "source": [],
      "metadata": {
        "id": "iH9TT9lvnZEt"
      }
    },
    {
      "cell_type": "markdown",
      "source": [],
      "metadata": {
        "id": "nfvoX3bonZHV"
      }
    },
    {
      "cell_type": "markdown",
      "source": [],
      "metadata": {
        "id": "KT2WTTEXnZKF"
      }
    }
  ]
}