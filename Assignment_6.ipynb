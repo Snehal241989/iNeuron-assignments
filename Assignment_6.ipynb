{
  "nbformat": 4,
  "nbformat_minor": 0,
  "metadata": {
    "colab": {
      "provenance": [],
      "include_colab_link": true
    },
    "kernelspec": {
      "name": "python3",
      "display_name": "Python 3"
    },
    "language_info": {
      "name": "python"
    }
  },
  "cells": [
    {
      "cell_type": "markdown",
      "metadata": {
        "id": "view-in-github",
        "colab_type": "text"
      },
      "source": [
        "<a href=\"https://colab.research.google.com/github/Snehal241989/iNeuron-assignments/blob/main/Assignment_6.ipynb\" target=\"_parent\"><img src=\"https://colab.research.google.com/assets/colab-badge.svg\" alt=\"Open In Colab\"/></a>"
      ]
    },
    {
      "cell_type": "markdown",
      "source": [
        "#Q.1. What are keywords in python? Using the keyword library, print all the python keywords."
      ],
      "metadata": {
        "id": "Rd-UMGnC90Mb"
      }
    },
    {
      "cell_type": "markdown",
      "source": [
        "Keywords in Python are reserved words that are used to define the syntax and structure of the Python language. They cannot be used as identifiers or variable names. You can print all the Python keywords using the keyword library as follows:"
      ],
      "metadata": {
        "id": "h6O_vmUi90Sq"
      }
    },
    {
      "cell_type": "code",
      "source": [
        "import keyword\n",
        "print(keyword.kwlist)"
      ],
      "metadata": {
        "colab": {
          "base_uri": "https://localhost:8080/"
        },
        "id": "7PT1D23M9_aP",
        "outputId": "ba64dc34-f67d-440b-e562-3b101a7f2396"
      },
      "execution_count": null,
      "outputs": [
        {
          "output_type": "stream",
          "name": "stdout",
          "text": [
            "['False', 'None', 'True', 'and', 'as', 'assert', 'async', 'await', 'break', 'class', 'continue', 'def', 'del', 'elif', 'else', 'except', 'finally', 'for', 'from', 'global', 'if', 'import', 'in', 'is', 'lambda', 'nonlocal', 'not', 'or', 'pass', 'raise', 'return', 'try', 'while', 'with', 'yield']\n"
          ]
        }
      ]
    },
    {
      "cell_type": "markdown",
      "source": [
        "#Q.2. What are the rules to create variables in python?"
      ],
      "metadata": {
        "id": "bYRoHq0V90VZ"
      }
    },
    {
      "cell_type": "markdown",
      "source": [
        "The rules to create variables in Python are:\n",
        "\n",
        "* A variable name must start with a letter or the underscore character.\n",
        "* A variable name cannot start with a number.\n",
        "* A variable name can only contain alpha-numeric characters and underscores (A-z, * 0-9, and _ ).\n",
        "* Variable names are case-sensitive."
      ],
      "metadata": {
        "id": "YrF82YrA90Xz"
      }
    },
    {
      "cell_type": "markdown",
      "source": [
        "#Q.3. What are the standards and conventions followed for the nomenclature of variables in python to improve code readability and maintainability?"
      ],
      "metadata": {
        "id": "PbePCA3z90ap"
      }
    },
    {
      "cell_type": "markdown",
      "source": [
        "In Python, adhering to consistent naming conventions and standards for variables is essential to improve code readability.\n",
        "\n",
        "Some of them are:\n",
        "\n",
        "1. Snake Case for Variables.\n",
        "2. Descriptive and Meaningful Names.\n",
        "3. Avoid Reserved Keywords.\n",
        "4. Use Plural for Collections.\n",
        "5. Constants in UPPERCASE.\n",
        "6. Class Names in CamelCase.\n",
        "7. Private Variables with Leading Underscore.\n",
        "8. Module-level Constants with ALL_CAPS."
      ],
      "metadata": {
        "id": "oewJkT6p90cy"
      }
    },
    {
      "cell_type": "markdown",
      "source": [
        "#Q.4. What will happen if a keyword is used as a variable name?"
      ],
      "metadata": {
        "id": "3yliDgCV90fx"
      }
    },
    {
      "cell_type": "markdown",
      "source": [
        "If a keyword is used as a variable name, python will raise a SyntaxError. Keywords are reserved words that Python uses for specific operations and they cannot be used as identifiers."
      ],
      "metadata": {
        "id": "c4iOs4Yy90iC"
      }
    },
    {
      "cell_type": "code",
      "source": [
        "True = \"This is true\" # True is a keyword and cannot be used as a variable name/identifier"
      ],
      "metadata": {
        "colab": {
          "base_uri": "https://localhost:8080/",
          "height": 135
        },
        "id": "guGadmvEDQAH",
        "outputId": "825e18c3-bce4-4349-c58e-6b8136717c61"
      },
      "execution_count": null,
      "outputs": [
        {
          "output_type": "error",
          "ename": "SyntaxError",
          "evalue": "ignored",
          "traceback": [
            "\u001b[0;36m  File \u001b[0;32m\"<ipython-input-19-87884d25a11a>\"\u001b[0;36m, line \u001b[0;32m1\u001b[0m\n\u001b[0;31m    True = \"This is true\" # True is a keyword and cannot be used as a variable name/identifier\u001b[0m\n\u001b[0m    ^\u001b[0m\n\u001b[0;31mSyntaxError\u001b[0m\u001b[0;31m:\u001b[0m cannot assign to True\n"
          ]
        }
      ]
    },
    {
      "cell_type": "markdown",
      "source": [
        "#Q.5. For what purpose def keyword is used?"
      ],
      "metadata": {
        "id": "Fg3eys_N90kr"
      }
    },
    {
      "cell_type": "markdown",
      "source": [
        "The def keyword is used to define a function in Python. It marks the start of the function header."
      ],
      "metadata": {
        "id": "CftezrvF90n6"
      }
    },
    {
      "cell_type": "code",
      "source": [
        "def add_num(x,y):\n",
        "  return x + y"
      ],
      "metadata": {
        "id": "HhFcMmz_C_ho"
      },
      "execution_count": null,
      "outputs": []
    },
    {
      "cell_type": "markdown",
      "source": [
        "#Q.6. What is the operation of this special character ‘\\’?"
      ],
      "metadata": {
        "id": "jlKx083X90qb"
      }
    },
    {
      "cell_type": "markdown",
      "source": [
        "The special character ‘\\’ is used as an escape character in python. It allows you to include special characters in strings that would otherwise result in syntax errors."
      ],
      "metadata": {
        "id": "lpSr5QX890tK"
      }
    },
    {
      "cell_type": "code",
      "source": [
        "print(\"He asked, \\\"How are you?\\\"\")"
      ],
      "metadata": {
        "colab": {
          "base_uri": "https://localhost:8080/"
        },
        "id": "KgiWUtRlCS82",
        "outputId": "95e473f4-82bd-4b05-b8a8-da0b84ca9210"
      },
      "execution_count": null,
      "outputs": [
        {
          "output_type": "stream",
          "name": "stdout",
          "text": [
            "He asked, \"How are you?\"\n"
          ]
        }
      ]
    },
    {
      "cell_type": "markdown",
      "source": [
        "#Q.7. Give an example of the following conditions:\n",
        "\n",
        "* (i) Homogeneous list\n",
        "* (ii) Heterogeneous set\n",
        "* (iii) Homogeneous tuple"
      ],
      "metadata": {
        "id": "UI6b0PKa90vx"
      }
    },
    {
      "cell_type": "markdown",
      "source": [
        "Examples of the following conditions:\n",
        "* (i) Homogeneous list: [1, 2, 3, 4, 5]\n",
        "* (ii) Heterogeneous set: {1, \"two\", 3.0, * \"four\"}\n",
        "* (iii) Homogeneous tuple: (1, 2, 3, 4, 5)"
      ],
      "metadata": {
        "id": "6SXMsMTC90ya"
      }
    },
    {
      "cell_type": "markdown",
      "source": [
        "# Q.8. Explain the mutable and immutable data types with proper explanation & examples."
      ],
      "metadata": {
        "id": "JUWqgLyg900a"
      }
    },
    {
      "cell_type": "markdown",
      "source": [
        "Mutable data types in python are those which can be changed after they are created.\n",
        "* Example: lists, sets, and dictionaries.\n",
        "\n",
        "Immutable data types are those which cannot be changed after they are created.\n",
        "* Example: integers, floats, strings, tuples, and frozensets."
      ],
      "metadata": {
        "id": "OZ5oVHcw_mNw"
      }
    },
    {
      "cell_type": "markdown",
      "source": [
        "# Q.9. Write a code to create the given structure using only for loop.\n",
        "* Triangle using the symbol \" * \""
      ],
      "metadata": {
        "id": "khdiVK_p_mLn"
      }
    },
    {
      "cell_type": "code",
      "source": [
        "n = 5\n",
        "for i in range(n):\n",
        "    print(' ' * (n - i - 1) + '*' * (2 * i + 1))"
      ],
      "metadata": {
        "colab": {
          "base_uri": "https://localhost:8080/"
        },
        "id": "T-SQoSX1_zO9",
        "outputId": "af6558e8-2233-4aa3-e1f7-ef5bf4ccec50"
      },
      "execution_count": null,
      "outputs": [
        {
          "output_type": "stream",
          "name": "stdout",
          "text": [
            "    *\n",
            "   ***\n",
            "  *****\n",
            " *******\n",
            "*********\n"
          ]
        }
      ]
    },
    {
      "cell_type": "markdown",
      "source": [
        "# Q.10. Write a code to create the given structure using while loop.\n",
        "\n",
        "* Reverse triangle using the symbol \" | \"  "
      ],
      "metadata": {
        "id": "-K6umOTz_-eU"
      }
    },
    {
      "cell_type": "code",
      "source": [
        "n = 5\n",
        "while n > 0:\n",
        "    print(' ' * (5 - n) + '|' * (2 * n - 1))\n",
        "    n -= 1"
      ],
      "metadata": {
        "colab": {
          "base_uri": "https://localhost:8080/"
        },
        "id": "rETbdmrE_4lR",
        "outputId": "b7b9eb04-8cf2-4970-c085-9b4ab2646432"
      },
      "execution_count": null,
      "outputs": [
        {
          "output_type": "stream",
          "name": "stdout",
          "text": [
            "|||||||||\n",
            " |||||||\n",
            "  |||||\n",
            "   |||\n",
            "    |\n"
          ]
        }
      ]
    }
  ]
}