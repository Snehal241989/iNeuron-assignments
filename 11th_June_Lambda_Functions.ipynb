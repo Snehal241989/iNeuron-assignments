{
  "nbformat": 4,
  "nbformat_minor": 0,
  "metadata": {
    "colab": {
      "provenance": [],
      "authorship_tag": "ABX9TyO2gm7MzrLKuW+vxhATeQ5f",
      "include_colab_link": true
    },
    "kernelspec": {
      "name": "python3",
      "display_name": "Python 3"
    },
    "language_info": {
      "name": "python"
    }
  },
  "cells": [
    {
      "cell_type": "markdown",
      "metadata": {
        "id": "view-in-github",
        "colab_type": "text"
      },
      "source": [
        "<a href=\"https://colab.research.google.com/github/rooftopmunda/iNeuron-assignments/blob/main/11th_June_Lambda_Functions.ipynb\" target=\"_parent\"><img src=\"https://colab.research.google.com/assets/colab-badge.svg\" alt=\"Open In Colab\"/></a>"
      ]
    },
    {
      "cell_type": "markdown",
      "source": [
        "#1. What is a lambda function in Python, and how does it differ from a regular function?"
      ],
      "metadata": {
        "id": "oUv183-Z_XXI"
      }
    },
    {
      "cell_type": "markdown",
      "source": [
        "A lambda function is a small anonymous function that is defined using the lambda keyword, unlike regular functions which are defined using the def keyword. Lambda functions can have any number of arguments but can only have one expression.\n",
        "* Example, a lambda function that adds two numbers could look like this: add = lambda a, b: a + b."
      ],
      "metadata": {
        "id": "6cF5mn-N_XZ4"
      }
    },
    {
      "cell_type": "markdown",
      "source": [
        "#2. Can a lambda function in Python have multiple arguments? If yes, how can you define and use them?"
      ],
      "metadata": {
        "id": "RAMcqYy-_Xcw"
      }
    },
    {
      "cell_type": "markdown",
      "source": [
        "Yes, a lambda function can have multiple arguments.\n",
        "\n",
        "* multiply = lambda a, b, c: a * b * c."
      ],
      "metadata": {
        "id": "uCz43zBV_Xfg"
      }
    },
    {
      "cell_type": "markdown",
      "source": [
        "#3. How are lambda functions typically used in Python? Provide an example use case."
      ],
      "metadata": {
        "id": "lTVE5SvA_XiY"
      }
    },
    {
      "cell_type": "markdown",
      "source": [
        "They are commonly used for short, throwaway functions where creating a full function using def keyword would be unnecessary. The are one time use functions."
      ],
      "metadata": {
        "id": "MceWQ82U_XlY"
      }
    },
    {
      "cell_type": "code",
      "source": [
        "multiply = lambda a, b, c: a * b * c\n",
        "print(multiply(2, 3, 40))"
      ],
      "metadata": {
        "colab": {
          "base_uri": "https://localhost:8080/"
        },
        "id": "RFzie30l_4Ax",
        "outputId": "43031994-fb5c-457e-ce4c-93e87c8e0a8d"
      },
      "execution_count": 30,
      "outputs": [
        {
          "output_type": "stream",
          "name": "stdout",
          "text": [
            "240\n"
          ]
        }
      ]
    },
    {
      "cell_type": "markdown",
      "source": [
        "#4. What are the advantages and limitations of lambda functions compared to regular functions in Python?"
      ],
      "metadata": {
        "id": "wtuuZ8fi_XoY"
      }
    },
    {
      "cell_type": "markdown",
      "source": [
        "Advantages of lambda functions:\n",
        "\n",
        "* Lambda functions allow you to write functions in a more readable manner.\n",
        "* Lambda functions don't require a name, making them good for one-time use.\n",
        "* Lambda functions can be easily be passed as arguments to other functions.\n",
        "\n",
        "Limitations of lambda functions:\n",
        "\n",
        "* Lambda functions are restricted to a single expression and cannot contain statements or multiple lines of code.\n",
        "* Since lambda functions are anonymous, they don't have docstrings, making them less self-explanatory."
      ],
      "metadata": {
        "id": "_Gmfdan4_Xrg"
      }
    },
    {
      "cell_type": "markdown",
      "source": [
        "#5. Are lambda functions in Python able to access variables defined outside of their own scope? Explain with an example."
      ],
      "metadata": {
        "id": "Rdy8oNGy_XuI"
      }
    },
    {
      "cell_type": "markdown",
      "source": [
        "Yes, lambda functions in Python can access variables defined outside of their own scope. It's known as variable capture."
      ],
      "metadata": {
        "id": "xPmkslC8AU2S"
      }
    },
    {
      "cell_type": "code",
      "source": [
        "def add_num():\n",
        "  x = 14\n",
        "  return lambda y: x + y\n",
        "\n",
        "lambda_fun = add_num()\n",
        "print(lambda_fun(7))\n"
      ],
      "metadata": {
        "colab": {
          "base_uri": "https://localhost:8080/"
        },
        "id": "oZqhKKxDANMF",
        "outputId": "c63df562-931e-4692-fb13-953830cefc7c"
      },
      "execution_count": 34,
      "outputs": [
        {
          "output_type": "stream",
          "name": "stdout",
          "text": [
            "21\n"
          ]
        }
      ]
    },
    {
      "cell_type": "markdown",
      "source": [
        "#6. Write a lambda function to calculate the square of a given number."
      ],
      "metadata": {
        "id": "mtRWTyQJ_XwY"
      }
    },
    {
      "cell_type": "code",
      "source": [
        "square = lambda x: x**2\n",
        "\n",
        "\n",
        "number = 7\n",
        "result = square(number)\n",
        "print(result)\n"
      ],
      "metadata": {
        "colab": {
          "base_uri": "https://localhost:8080/"
        },
        "id": "rn_qjhHdAdQ2",
        "outputId": "e4f1622f-8291-4d32-f811-5c82c0a6bce8"
      },
      "execution_count": 35,
      "outputs": [
        {
          "output_type": "stream",
          "name": "stdout",
          "text": [
            "49\n"
          ]
        }
      ]
    },
    {
      "cell_type": "markdown",
      "source": [
        "# 7. Create a lambda function to find the maximum value in a list of integers."
      ],
      "metadata": {
        "id": "bbr4OoAr_Xyw"
      }
    },
    {
      "cell_type": "code",
      "source": [
        "lst_int = [6541, 8, 485365, 14654, 654, 54, 84, 865, 465, 489, 654, 6854, 84, 514, 8]\n",
        "max_value = lambda lst: max(lst_int)\n",
        "result = max_value(lst_int)\n",
        "print(result)  # Output will be 485365"
      ],
      "metadata": {
        "colab": {
          "base_uri": "https://localhost:8080/"
        },
        "id": "tAM91Dq2ApVF",
        "outputId": "73398ccd-911e-465a-fadb-6d1a167ec405"
      },
      "execution_count": 36,
      "outputs": [
        {
          "output_type": "stream",
          "name": "stdout",
          "text": [
            "485365\n"
          ]
        }
      ]
    },
    {
      "cell_type": "markdown",
      "source": [
        "#8. Implement a lambda function to filter out all the even numbers from a list of integers."
      ],
      "metadata": {
        "id": "aeh-1jw5_X1B"
      }
    },
    {
      "cell_type": "code",
      "source": [
        "lst_int = [6541, 8, 485365, 14654, 654, 54, 84, 865, 465, 489, 654, 6854, 84, 514, 8]\n",
        "\n",
        "even_numbers = lambda lst: list(filter(lambda x: x % 2 == 0, lst_int))\n",
        "\n",
        "result = even_numbers(lst_int)\n",
        "print(result)"
      ],
      "metadata": {
        "colab": {
          "base_uri": "https://localhost:8080/"
        },
        "id": "8_PrBiT8Axhh",
        "outputId": "b50139ed-3c79-40a9-821f-acc25bfc7d40"
      },
      "execution_count": 38,
      "outputs": [
        {
          "output_type": "stream",
          "name": "stdout",
          "text": [
            "[8, 14654, 654, 54, 84, 654, 6854, 84, 514, 8]\n"
          ]
        }
      ]
    },
    {
      "cell_type": "markdown",
      "source": [
        "#9. Write a lambda function to sort a list of strings in ascending order based on the length of each string."
      ],
      "metadata": {
        "id": "ltqPSl9PAtIX"
      }
    },
    {
      "cell_type": "code",
      "source": [
        "str_list = [\"Whale\", \"Fish\", \"Queen\", \"Tiger\", \"Elephant\", \"Banana\", \"X-ray\", \"Rabbit\", \"Monkey\", \"Car\", \"Jellyfish\", \"Zebra\", \"Orange\", \"Umbrella\", \"House\", \"Giraffe\", \"Lion\", \"Vase\", \"Panda\", \"Kangaroo\", \"Apple\", \"Nest\", \"Ice Cream\", \"Yellow\", \"Sun\"]\n",
        "\n",
        "sort_str_by_length = lambda lst: sorted(lst, key=lambda x: len(x))\n",
        "\n",
        "result = sort_str_by_length(str_list)\n",
        "print(result)\n",
        "\n",
        "#Ice Cream has a space, hence it is considered the longest string."
      ],
      "metadata": {
        "colab": {
          "base_uri": "https://localhost:8080/"
        },
        "id": "NbhePFczA6Jv",
        "outputId": "f56cd2ba-03f4-4200-a64b-723676ed378b"
      },
      "execution_count": 40,
      "outputs": [
        {
          "output_type": "stream",
          "name": "stdout",
          "text": [
            "['Car', 'Sun', 'Fish', 'Lion', 'Vase', 'Nest', 'Whale', 'Queen', 'Tiger', 'X-ray', 'Zebra', 'House', 'Panda', 'Apple', 'Banana', 'Rabbit', 'Monkey', 'Orange', 'Yellow', 'Giraffe', 'Elephant', 'Umbrella', 'Kangaroo', 'Jellyfish', 'Ice Cream']\n"
          ]
        }
      ]
    },
    {
      "cell_type": "markdown",
      "source": [
        "#10. Create a lambda function that takes two lists as input and returns a new list containing the common elements between the two lists."
      ],
      "metadata": {
        "id": "H7z0EfyqAtGH"
      }
    },
    {
      "cell_type": "code",
      "source": [
        "list1 = [1, 2, 3, 4, 25, 6]\n",
        "list2 = [4, 25, 6, 7, 8]\n",
        "\n",
        "common_elements = lambda lst1, lst2: list(filter(lambda x: x in lst1, lst2))\n",
        "\n",
        "common_elements = common_elements(list1, list2)\n",
        "print(common_elements)"
      ],
      "metadata": {
        "colab": {
          "base_uri": "https://localhost:8080/"
        },
        "id": "AsacaZQPBpAP",
        "outputId": "d4e6a839-ed30-4004-974e-37efe86e8bc9"
      },
      "execution_count": 42,
      "outputs": [
        {
          "output_type": "stream",
          "name": "stdout",
          "text": [
            "[4, 25, 6]\n"
          ]
        }
      ]
    },
    {
      "cell_type": "markdown",
      "source": [
        "# 11. Write a recursive function to calculate the factorial of a given positive integer."
      ],
      "metadata": {
        "id": "dRBNCxwcAtDf"
      }
    },
    {
      "cell_type": "code",
      "source": [
        "def factorial_number(num):\n",
        "    if (num == 0 or num == 1):\n",
        "        return 1\n",
        "    else:\n",
        "        return num * factorial_number(num-1)\n",
        "\n",
        "factorial_number(7)"
      ],
      "metadata": {
        "colab": {
          "base_uri": "https://localhost:8080/"
        },
        "id": "Y5baE_cOCB3W",
        "outputId": "8d5ff170-2929-4108-c34b-2f64d686df3d"
      },
      "execution_count": 43,
      "outputs": [
        {
          "output_type": "execute_result",
          "data": {
            "text/plain": [
              "5040"
            ]
          },
          "metadata": {},
          "execution_count": 43
        }
      ]
    },
    {
      "cell_type": "markdown",
      "source": [
        "#12. Implement a recursive function to compute the nth Fibonacci number.\n",
        "\n",
        "* Fibonacci sequence up to 10 terms: [0, 1, 1, 2, 3, 5, 8, 13, 21, 34]"
      ],
      "metadata": {
        "id": "d4vVU5WBAtBH"
      }
    },
    {
      "cell_type": "code",
      "source": [
        "def fibonacci_sequence(n):\n",
        "    if n <=0:\n",
        "        return None\n",
        "    if n == 1:\n",
        "        return 0\n",
        "    if n == 2:\n",
        "        return 1\n",
        "\n",
        "    return fibonacci_sequence(n-1) + fibonacci_sequence(n-2)\n",
        "\n",
        "user_inp = int(input(\"Enter the position to find the number in the sequence: \"))\n",
        "result = fibonacci_sequence(user_inp)\n",
        "print(f\"Fibonacci number at position {user_inp} in the Fibonacci sequence is: {result}\")"
      ],
      "metadata": {
        "colab": {
          "base_uri": "https://localhost:8080/"
        },
        "id": "VWU52PPGCPuN",
        "outputId": "8fad3b2f-4888-4b7b-e2c1-255ab8d388b7"
      },
      "execution_count": 44,
      "outputs": [
        {
          "output_type": "stream",
          "name": "stdout",
          "text": [
            "Enter the position to find the number in the sequence: 7\n",
            "Fibonacci number at position 7 in the Fibonacci sequence is: 8\n"
          ]
        }
      ]
    },
    {
      "cell_type": "markdown",
      "source": [
        "#13. Create a recursive function to find the sum of all the elements in a given list."
      ],
      "metadata": {
        "id": "D4cm5JeUAs_A"
      }
    },
    {
      "cell_type": "code",
      "source": [
        "def sum(lst):\n",
        "    if not lst:\n",
        "        return 0\n",
        "    else:\n",
        "        return lst[0] + sum(lst[1:])\n",
        "\n",
        "my_list = [1, 2, 3, 4, 5, 6]\n",
        "result = sum(my_list)\n",
        "print(\"Sum of elements:\", result)"
      ],
      "metadata": {
        "colab": {
          "base_uri": "https://localhost:8080/"
        },
        "id": "dcBNIk3EDTEx",
        "outputId": "2e51be96-7149-4708-d1c6-926ee82dda40"
      },
      "execution_count": 47,
      "outputs": [
        {
          "output_type": "stream",
          "name": "stdout",
          "text": [
            "Sum of elements: 21\n"
          ]
        }
      ]
    },
    {
      "cell_type": "markdown",
      "source": [
        "#14. Write a recursive function to determine whether a given string is a palindrome."
      ],
      "metadata": {
        "id": "uDZJgnBjAs8f"
      }
    },
    {
      "cell_type": "code",
      "source": [
        "def is_palindrome(string):\n",
        "    if len(string) <= 1:\n",
        "        return True\n",
        "    elif string[0] != string[-1]:\n",
        "        return False\n",
        "    else:\n",
        "        return is_palindrome(string[1:-1])\n"
      ],
      "metadata": {
        "id": "tnzJihnNDl6D"
      },
      "execution_count": 48,
      "outputs": []
    },
    {
      "cell_type": "code",
      "source": [
        "\n",
        "is_palindrome(\"abcdedcba\")"
      ],
      "metadata": {
        "colab": {
          "base_uri": "https://localhost:8080/"
        },
        "id": "CLyO7FXpHNTV",
        "outputId": "7b56aecf-099e-478b-e254-d312a94cf243"
      },
      "execution_count": 51,
      "outputs": [
        {
          "output_type": "execute_result",
          "data": {
            "text/plain": [
              "True"
            ]
          },
          "metadata": {},
          "execution_count": 51
        }
      ]
    },
    {
      "cell_type": "code",
      "source": [
        "is_palindrome('45654')"
      ],
      "metadata": {
        "colab": {
          "base_uri": "https://localhost:8080/"
        },
        "id": "bGw2IGNnHaiC",
        "outputId": "b7bd483e-1bbf-4585-e4d6-6b462f3479ad"
      },
      "execution_count": 52,
      "outputs": [
        {
          "output_type": "execute_result",
          "data": {
            "text/plain": [
              "True"
            ]
          },
          "metadata": {},
          "execution_count": 52
        }
      ]
    },
    {
      "cell_type": "code",
      "source": [
        "is_palindrome(\"tiger\")"
      ],
      "metadata": {
        "colab": {
          "base_uri": "https://localhost:8080/"
        },
        "id": "CPl5mSw4Hfj1",
        "outputId": "393f5e06-31a0-4dcb-8d4c-0395ae229c24"
      },
      "execution_count": 53,
      "outputs": [
        {
          "output_type": "execute_result",
          "data": {
            "text/plain": [
              "False"
            ]
          },
          "metadata": {},
          "execution_count": 53
        }
      ]
    },
    {
      "cell_type": "markdown",
      "source": [
        "#15. Implement a recursive function to find the greatest common divisor (GCD) of two positive integers."
      ],
      "metadata": {
        "id": "163U_xs7As6H"
      }
    },
    {
      "cell_type": "code",
      "source": [
        "def gcd(a, b):\n",
        "    if b == 0:\n",
        "        return a\n",
        "    else:\n",
        "        return gcd(b, a % b)\n"
      ],
      "metadata": {
        "id": "BoIFgdMSEQ3M"
      },
      "execution_count": 26,
      "outputs": []
    },
    {
      "cell_type": "code",
      "source": [
        "gcd(48,18)"
      ],
      "metadata": {
        "colab": {
          "base_uri": "https://localhost:8080/"
        },
        "id": "4l4wNELtEW3X",
        "outputId": "fcceae0c-8df5-4deb-ecec-bb7587519d0e"
      },
      "execution_count": 28,
      "outputs": [
        {
          "output_type": "execute_result",
          "data": {
            "text/plain": [
              "6"
            ]
          },
          "metadata": {},
          "execution_count": 28
        }
      ]
    },
    {
      "cell_type": "code",
      "source": [
        "gcd(100,25)"
      ],
      "metadata": {
        "colab": {
          "base_uri": "https://localhost:8080/"
        },
        "id": "sAlNiIjKHpEz",
        "outputId": "ea9011d3-7474-455c-d415-0a64dd848cc8"
      },
      "execution_count": 54,
      "outputs": [
        {
          "output_type": "execute_result",
          "data": {
            "text/plain": [
              "25"
            ]
          },
          "metadata": {},
          "execution_count": 54
        }
      ]
    }
  ]
}