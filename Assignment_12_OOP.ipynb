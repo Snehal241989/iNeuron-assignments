{
  "nbformat": 4,
  "nbformat_minor": 0,
  "metadata": {
    "colab": {
      "provenance": [],
      "authorship_tag": "ABX9TyNKhyajJvEpm/AR5bOd4XB6",
      "include_colab_link": true
    },
    "kernelspec": {
      "name": "python3",
      "display_name": "Python 3"
    },
    "language_info": {
      "name": "python"
    }
  },
  "cells": [
    {
      "cell_type": "markdown",
      "metadata": {
        "id": "view-in-github",
        "colab_type": "text"
      },
      "source": [
        "<a href=\"https://colab.research.google.com/github/rooftopmunda/iNeuron-assignments/blob/main/Assignment_12_OOP.ipynb\" target=\"_parent\"><img src=\"https://colab.research.google.com/assets/colab-badge.svg\" alt=\"Open In Colab\"/></a>"
      ]
    },
    {
      "cell_type": "markdown",
      "source": [
        "# 1. What is the primary goal of Object-Oriented Programming (OOP)?"
      ],
      "metadata": {
        "id": "r7LsvkUYooFF"
      }
    },
    {
      "cell_type": "markdown",
      "source": [
        "The primary goal of Object-Oriented Programming (OOP) is to organize and structure code in a way that promotes reusability, modularity, and maintainability. It achieves this by representing real-world entities as objects, which encapsulate data (attributes) and behavior (methods) into a single unit."
      ],
      "metadata": {
        "id": "f0xPF0eco5uO"
      }
    },
    {
      "cell_type": "markdown",
      "source": [
        "# 2. What is an object in Python?"
      ],
      "metadata": {
        "id": "IU92a5bpo5sP"
      }
    },
    {
      "cell_type": "markdown",
      "source": [
        "An object is an instance of a class. It is a concrete entity that represents a specific instance of a class and has its own unique set of attributes and methods. Objects are created using the class definition as a blueprint, and they can interact with each other by invoking methods and accessing attributes."
      ],
      "metadata": {
        "id": "KlF-HvRZo5pv"
      }
    },
    {
      "cell_type": "markdown",
      "source": [
        "# 3. What is a class in Python?"
      ],
      "metadata": {
        "id": "JPWmg_Boo5ne"
      }
    },
    {
      "cell_type": "markdown",
      "source": [
        "A class is a blueprint or a template that defines the attributes and methods that an object of that class will have. It serves as a blueprint for creating objects with similar properties and behaviors. A class encapsulates data and behavior into a single unit and allows for the creation of multiple instances (objects) based on that blueprint."
      ],
      "metadata": {
        "id": "ee7RMFGZo5kf"
      }
    },
    {
      "cell_type": "markdown",
      "source": [
        "# 4. What are attributes and methods in a class?"
      ],
      "metadata": {
        "id": "XM7the3Eo5f2"
      }
    },
    {
      "cell_type": "markdown",
      "source": [
        "* Attributes in a class are variables that hold data associated with objects created from that class. They represent the state or characteristics of an object. For example, in a \"Book\" class, attributes such as \"title,\" \"author,\" and \"isbn\" represent the properties of a book.\n",
        "\n",
        "* Methods in a class are functions that define the behavior or actions that objects of that class can perform. They operate on the attributes of the class and can modify the state of the object or perform specific actions. For example, in the same \"Book\" class, methods like \"check_out,\" \"return_book,\" and \"display_book_info\" define the actions that can be performed on a book object."
      ],
      "metadata": {
        "id": "W7uyN1Rzo5Z2"
      }
    },
    {
      "cell_type": "markdown",
      "source": [
        "# 5. What is the difference between class variables and instance variables in Python?"
      ],
      "metadata": {
        "id": "Zusi43ONpvbN"
      }
    },
    {
      "cell_type": "markdown",
      "source": [
        "\n",
        "* Class variables are variables that are shared among all instances (objects) of a class. They are defined within the class but outside any methods. Class variables have the same value for all instances of the class. They are accessed using the class name.\n",
        "\n",
        "* Instance variables, are unique to each instance (object) of a class. They are defined within a class's methods and have different values for each instance. Instance variables are accessed using the instance name."
      ],
      "metadata": {
        "id": "Ld_M3BeBpqCU"
      }
    },
    {
      "cell_type": "markdown",
      "source": [
        "# 6. What is the purpose of the self parameter in Python class methods?"
      ],
      "metadata": {
        "id": "24NUUPDNpqAK"
      }
    },
    {
      "cell_type": "markdown",
      "source": [
        "In python class methods, the self parameter refers to the current instance (object) of the class that the method is being called on. It allows the method to access and manipulate the attributes and methods of that specific instance. It also initializes the variable."
      ],
      "metadata": {
        "id": "Z-atDZhNpp9a"
      }
    },
    {
      "cell_type": "markdown",
      "source": [
        "# 7. For a library management system, you have to design the \"Book\" class with OOP principles in mind. The “Book” class will have following attributes:\n",
        "* a. title: Represents the title of the book.\n",
        "* b. author: Represents the author(s) of the book.\n",
        "* c. isbn: Represents the ISBN (International Standard Book Number) of the book.\n",
        "* d. publication_year: Represents the year of publication of the book.\n",
        "* e. available_copies: Represents the number of copies available for checkout.\n",
        "The class will also include the following methods:\n",
        "* a. check_out(self): Decrements the available copies by one if there are copies\n",
        "available for checkout.\n",
        "* b. return_book(self): Increments the available copies by one when a book is\n",
        "returned.\n",
        "* c. display_book_info(self): Displays the information about the book, including its\n",
        "attributes and the number of available copies."
      ],
      "metadata": {
        "id": "q_L5FqdOppgK"
      }
    },
    {
      "cell_type": "code",
      "source": [
        "class Book:\n",
        "    def __init__(self, title, author, isbn, publication_year, available_copies):\n",
        "        self.title = title\n",
        "        self.author = author\n",
        "        self.isbn = isbn\n",
        "        self.publication_year = publication_year\n",
        "        self.available_copies = available_copies\n",
        "\n",
        "    def check_out(self):\n",
        "        if self.available_copies > 0:\n",
        "            self.available_copies -= 1\n",
        "            print(\"Book checked out successfully.\")\n",
        "        else:\n",
        "            print(\"No copies available for checkout.\")\n",
        "\n",
        "    def return_book(self):\n",
        "        self.available_copies += 1\n",
        "        print(\"Book returned successfully.\")\n",
        "\n",
        "    def display_book_info(self):\n",
        "        print(\"Book Information:\")\n",
        "        print(\"Title:\", self.title)\n",
        "        print(\"Author:\", self.author)\n",
        "        print(\"ISBN:\", self.isbn)\n",
        "        print(\"Publication Year:\", self.publication_year)\n",
        "        print(\"Available Copies:\", self.available_copies)\n",
        "\n",
        "book = Book(\"Sapiens\",\"Krish Naik\",25252,2023,125000)\n",
        "Book.display_book_info(book)\n",
        "Book.return_book(book)\n",
        "Book.display_book_info(book)"
      ],
      "metadata": {
        "colab": {
          "base_uri": "https://localhost:8080/"
        },
        "id": "QXdd-s7fs32_",
        "outputId": "ea5c0908-a804-45b3-fa25-b4e5aa2caf4f"
      },
      "execution_count": 7,
      "outputs": [
        {
          "output_type": "stream",
          "name": "stdout",
          "text": [
            "Book Information:\n",
            "Title: Sapiens\n",
            "Author: Krish Naik\n",
            "ISBN: 25252\n",
            "Publication Year: 2023\n",
            "Available Copies: 125000\n",
            "Book returned successfully.\n",
            "Book Information:\n",
            "Title: Sapiens\n",
            "Author: Krish Naik\n",
            "ISBN: 25252\n",
            "Publication Year: 2023\n",
            "Available Copies: 125001\n"
          ]
        }
      ]
    },
    {
      "cell_type": "markdown",
      "source": [
        "# 8. For a ticket booking system, you have to design the \"Ticket\" class with OOP principles in mind. The “Ticket” class should have the following attributes:\n",
        "\n",
        "* a. ticket_id: Represents the unique identifier for the ticket.\n",
        "* b. event_name: Represents the name of the event.\n",
        "* c. event_date: Represents the date of the event.\n",
        "* d. venue: Represents the venue of the event.\n",
        "* e. seat_number: Represents the seat number associated with the ticket.\n",
        "* f. price: Represents the price of the ticket.\n",
        "* g. is_reserved: Represents the reservation status of the ticket.\n",
        "The class also includes the following methods:\n",
        "* a. reserve_ticket(self): Marks the ticket as reserved if it is not already reserved.\n",
        "* b. cancel_reservation(self): Cancels the reservation of the ticket if it is already\n",
        "reserved.\n",
        "* c. display_ticket_info(self): Displays the information about the ticket, including its\n",
        "attributes and reservation status."
      ],
      "metadata": {
        "id": "hoJ2LEt7ppdy"
      }
    },
    {
      "cell_type": "code",
      "source": [
        "class Ticket:\n",
        "    def __init__(self, ticket_id, event_name, event_date, venue, seat_number, price):\n",
        "        self.ticket_id = ticket_id\n",
        "        self.event_name = event_name\n",
        "        self.event_date = event_date\n",
        "        self.venue = venue\n",
        "        self.seat_number = seat_number\n",
        "        self.price = price\n",
        "        self.is_reserved = False\n",
        "\n",
        "    def reserve_ticket(self):\n",
        "        if not self.is_reserved:\n",
        "            self.is_reserved = True\n",
        "            print(\"Ticket reserved successfully.\")\n",
        "        else:\n",
        "            print(\"Ticket is already reserved.\")\n",
        "\n",
        "    def cancel_reservation(self):\n",
        "        if self.is_reserved:\n",
        "            self.is_reserved = False\n",
        "            print(\"Reservation canceled successfully.\")\n",
        "        else:\n",
        "            print(\"Ticket is not reserved.\")\n",
        "\n",
        "    def display_ticket_info(self):\n",
        "        print(\"Ticket Information:\")\n",
        "        print(\"Ticket ID:\", self.ticket_id)\n",
        "        print(\"Event Name:\", self.event_name)\n",
        "        print(\"Event Date:\", self.event_date)\n",
        "        print(\"Venue:\", self.venue)\n",
        "        print(\"Seat Number:\", self.seat_number)\n",
        "        print(\"Price:\", self.price)\n",
        "        print(\"Reservation Status:\", \"Reserved\" if self.is_reserved else \"Not Reserved\")\n",
        "\n",
        "Goa = Ticket(\"TICKET001\",\"Vacation\",\"22 Dec 2023\",\"Calangute\", 25,2599)\n",
        "Goa.display_ticket_info()\n",
        "Goa.reserve_ticket()\n",
        "Goa.cancel_reservation()"
      ],
      "metadata": {
        "colab": {
          "base_uri": "https://localhost:8080/"
        },
        "id": "h3WDh4fbwOBX",
        "outputId": "9be5c060-9db1-4516-ee86-76c254b84e58"
      },
      "execution_count": 13,
      "outputs": [
        {
          "output_type": "stream",
          "name": "stdout",
          "text": [
            "Ticket Information:\n",
            "Ticket ID: TICKET001\n",
            "Event Name: Vacation\n",
            "Event Date: 22 Dec 2023\n",
            "Venue: Calangute\n",
            "Seat Number: 25\n",
            "Price: 2599\n",
            "Reservation Status: Not Reserved\n",
            "Ticket reserved successfully.\n",
            "Reservation canceled successfully.\n"
          ]
        }
      ]
    },
    {
      "cell_type": "markdown",
      "source": [
        "# 9. You are creating a shopping cart for an e-commerce website. Using OOP to model the \"ShoppingCart\" functionality the class should contain following attributes and methods:\n",
        "\n",
        "* a. items: Represents the list of items in the shopping cart.\n",
        "The class also includes the following methods:\n",
        "\n",
        "* a. add_item(self, item): Adds an item to the shopping cart by appending it to the\n",
        "list of items.\n",
        "* b. remove_item(self, item): Removes an item from the shopping cart if it exists in\n",
        "the list.\n",
        "* c. view_cart(self): Displays the items currently present in the shopping cart.\n",
        "* d. clear_cart(self): Clears all items from the shopping cart by reassigning an\n",
        "empty list to the items attribute."
      ],
      "metadata": {
        "id": "CcB5Vv38ppWj"
      }
    },
    {
      "cell_type": "code",
      "source": [
        "class ShoppingCart:\n",
        "    def __init__(self):\n",
        "        self.items = []\n",
        "\n",
        "    def add_item(self, item):\n",
        "        self.items.append(item)\n",
        "        print(\"Item added to the shopping cart.\")\n",
        "\n",
        "    def remove_item(self, item):\n",
        "        if item in self.items:\n",
        "            self.items.remove(item)\n",
        "            print(\"Item removed from the shopping cart.\")\n",
        "        else:\n",
        "            print(\"Item not found in the shopping cart.\")\n",
        "\n",
        "    def view_cart(self):\n",
        "        if self.items:\n",
        "            print(\"Items in the shopping cart:\")\n",
        "            for item in self.items:\n",
        "                print(\"- \", item)\n",
        "        else:\n",
        "            print(\"Shopping cart is empty.\")\n",
        "\n",
        "    def clear_cart(self):\n",
        "        self.items = []\n",
        "        print(\"Shopping cart cleared.\")\n",
        "\n",
        "Amazon = ShoppingCart()\n",
        "Amazon.add_item(\"Toothpaste\")\n",
        "Amazon.add_item(\"Handwash\")\n",
        "\n",
        "Amazon.view_cart()\n",
        "Amazon.clear_cart()"
      ],
      "metadata": {
        "colab": {
          "base_uri": "https://localhost:8080/"
        },
        "id": "TwQ5mtB0x4FD",
        "outputId": "b35534c1-07a7-4859-ee28-dbf8746682e9"
      },
      "execution_count": 19,
      "outputs": [
        {
          "output_type": "stream",
          "name": "stdout",
          "text": [
            "Item added to the shopping cart.\n",
            "Item added to the shopping cart.\n",
            "Items in the shopping cart:\n",
            "-  Toothpaste\n",
            "-  Handwash\n",
            "Shopping cart cleared.\n"
          ]
        }
      ]
    },
    {
      "cell_type": "markdown",
      "source": [
        "# 10. Imagine a school management system. You have to design the \"Student\" class using OOP concepts.The “Student” class has the following attributes:\n",
        "\n",
        "* a. name: Represents the name of the student.\n",
        "* b. age: Represents the age of the student.\n",
        "* c. grade: Represents the grade or class of the student.\n",
        "* d. student_id: Represents the unique identifier for the student.\n",
        "* e. attendance: Represents the attendance record of the student.\n",
        "___\n",
        "* The class should also include the following methods:\n",
        "* a. update_attendance(self, date, status): Updates the attendance record of the\n",
        "student for a given date with the provided status (e.g., present or absent).\n",
        "* b. get_attendance(self): Returns the attendance record of the student.\n",
        "* c. get_average_attendance(self): Calculates and returns the average\n",
        "attendance percentage of the student based on their attendance record."
      ],
      "metadata": {
        "id": "CBS8PQKkpo5J"
      }
    },
    {
      "cell_type": "code",
      "source": [
        "class Student:\n",
        "    def __init__(self, name, age, grade, student_id):\n",
        "        self.name = name\n",
        "        self.age = age\n",
        "        self.grade = grade\n",
        "        self.student_id = student_id\n",
        "        self.attendance = {}\n",
        "\n",
        "    def update_attendance(self, date, status):\n",
        "        self.attendance[date] = status\n",
        "        print(\"Attendance updated for\", date)\n",
        "\n",
        "    def get_attendance(self):\n",
        "        return self.attendance\n",
        "\n",
        "    def get_average_attendance(self):\n",
        "        total_days = len(self.attendance)\n",
        "        present_days = sum(value == \"present\" for value in self.attendance.values())\n",
        "        attendance_percentage = (present_days / total_days) * 100\n",
        "        return round(attendance_percentage,3)"
      ],
      "metadata": {
        "id": "5wdlMumAzwDg"
      },
      "execution_count": 28,
      "outputs": []
    },
    {
      "cell_type": "code",
      "source": [
        "\n",
        "student1 = Student(\"krish naik\", 15, \"10th grade\", \"S123\")\n",
        "\n",
        "student1.update_attendance(\"2023-08-01\", \"present\")\n",
        "student1.update_attendance(\"2023-08-02\", \"absent\")\n",
        "student1.update_attendance(\"2023-08-03\", \"present\")\n",
        "\n",
        "attendance_record = student1.get_attendance()\n",
        "print(\"Attendance Record:\", attendance_record)\n",
        "average_attendance = student1.get_average_attendance()\n",
        "print(\"Average Attendance Percentage:\", average_attendance,\"%\")\n"
      ],
      "metadata": {
        "colab": {
          "base_uri": "https://localhost:8080/"
        },
        "id": "NRyV6TACzxHR",
        "outputId": "30676ad2-5afb-4914-fb1e-b593f93f7b28"
      },
      "execution_count": 29,
      "outputs": [
        {
          "output_type": "stream",
          "name": "stdout",
          "text": [
            "Attendance updated for 2023-08-01\n",
            "Attendance updated for 2023-08-02\n",
            "Attendance updated for 2023-08-03\n",
            "Attendance Record: {'2023-08-01': 'present', '2023-08-02': 'absent', '2023-08-03': 'present'}\n",
            "Average Attendance Percentage: 66.667 %\n"
          ]
        }
      ]
    },
    {
      "cell_type": "code",
      "source": [],
      "metadata": {
        "id": "Ee-Zb0DZ0gtr"
      },
      "execution_count": null,
      "outputs": []
    }
  ]
}